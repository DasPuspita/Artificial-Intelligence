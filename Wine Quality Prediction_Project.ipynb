{
  "nbformat": 4,
  "nbformat_minor": 0,
  "metadata": {
    "colab": {
      "provenance": []
    },
    "kernelspec": {
      "name": "python3",
      "display_name": "Python 3"
    },
    "language_info": {
      "name": "python"
    }
  },
  "cells": [
    {
      "cell_type": "code",
      "execution_count": null,
      "metadata": {
        "id": "rfVSOo2VWwLI"
      },
      "outputs": [],
      "source": [
        "import pandas as pd\n",
        "from sklearn.model_selection import train_test_split\n",
        "from sklearn.linear_model import LinearRegression\n",
        "from sklearn import metrics\n",
        "from sklearn.preprocessing import MinMaxScaler\n",
        "from sklearn.metrics import accuracy_score\n",
        "import matplotlib.pyplot as plt\n",
        "import numpy as np\n",
        "import seaborn as sns"
      ]
    },
    {
      "cell_type": "code",
      "source": [
        "df = pd.read_csv(\"/content/WineQT.csv\")"
      ],
      "metadata": {
        "id": "DqaJsjiVcAC7"
      },
      "execution_count": null,
      "outputs": []
    },
    {
      "cell_type": "code",
      "source": [
        "df.head()"
      ],
      "metadata": {
        "colab": {
          "base_uri": "https://localhost:8080/",
          "height": 241
        },
        "id": "MZfTKdhdcJIQ",
        "outputId": "e44cccc0-a7a6-42d2-a239-b7c9445fcd13"
      },
      "execution_count": null,
      "outputs": [
        {
          "output_type": "execute_result",
          "data": {
            "text/plain": [
              "   fixed acidity  volatile acidity  citric acid  residual sugar  chlorides  \\\n",
              "0            7.4              0.70         0.00             1.9      0.076   \n",
              "1            7.8              0.88         0.00             2.6      0.098   \n",
              "2            7.8              0.76         0.04             2.3      0.092   \n",
              "3           11.2              0.28         0.56             1.9      0.075   \n",
              "4            7.4              0.70         0.00             NaN      0.076   \n",
              "\n",
              "   free sulfur dioxide  total sulfur dioxide  density    pH  sulphates  \\\n",
              "0                 11.0                  34.0   0.9978  3.51       0.56   \n",
              "1                 25.0                  67.0   0.9968  3.20       0.68   \n",
              "2                 15.0                  54.0   0.9970  3.26       0.65   \n",
              "3                 17.0                  60.0   0.9980  3.16       0.58   \n",
              "4                 11.0                  34.0   0.9978  3.51       0.56   \n",
              "\n",
              "   alcohol  quality  Id  \n",
              "0      9.4        5   0  \n",
              "1      9.8        5   1  \n",
              "2      9.8        5   2  \n",
              "3      9.8        6   3  \n",
              "4      9.4        5   4  "
            ],
            "text/html": [
              "\n",
              "  <div id=\"df-b7aad727-27ae-4b4f-9cdf-5ac5afd5d877\" class=\"colab-df-container\">\n",
              "    <div>\n",
              "<style scoped>\n",
              "    .dataframe tbody tr th:only-of-type {\n",
              "        vertical-align: middle;\n",
              "    }\n",
              "\n",
              "    .dataframe tbody tr th {\n",
              "        vertical-align: top;\n",
              "    }\n",
              "\n",
              "    .dataframe thead th {\n",
              "        text-align: right;\n",
              "    }\n",
              "</style>\n",
              "<table border=\"1\" class=\"dataframe\">\n",
              "  <thead>\n",
              "    <tr style=\"text-align: right;\">\n",
              "      <th></th>\n",
              "      <th>fixed acidity</th>\n",
              "      <th>volatile acidity</th>\n",
              "      <th>citric acid</th>\n",
              "      <th>residual sugar</th>\n",
              "      <th>chlorides</th>\n",
              "      <th>free sulfur dioxide</th>\n",
              "      <th>total sulfur dioxide</th>\n",
              "      <th>density</th>\n",
              "      <th>pH</th>\n",
              "      <th>sulphates</th>\n",
              "      <th>alcohol</th>\n",
              "      <th>quality</th>\n",
              "      <th>Id</th>\n",
              "    </tr>\n",
              "  </thead>\n",
              "  <tbody>\n",
              "    <tr>\n",
              "      <th>0</th>\n",
              "      <td>7.4</td>\n",
              "      <td>0.70</td>\n",
              "      <td>0.00</td>\n",
              "      <td>1.9</td>\n",
              "      <td>0.076</td>\n",
              "      <td>11.0</td>\n",
              "      <td>34.0</td>\n",
              "      <td>0.9978</td>\n",
              "      <td>3.51</td>\n",
              "      <td>0.56</td>\n",
              "      <td>9.4</td>\n",
              "      <td>5</td>\n",
              "      <td>0</td>\n",
              "    </tr>\n",
              "    <tr>\n",
              "      <th>1</th>\n",
              "      <td>7.8</td>\n",
              "      <td>0.88</td>\n",
              "      <td>0.00</td>\n",
              "      <td>2.6</td>\n",
              "      <td>0.098</td>\n",
              "      <td>25.0</td>\n",
              "      <td>67.0</td>\n",
              "      <td>0.9968</td>\n",
              "      <td>3.20</td>\n",
              "      <td>0.68</td>\n",
              "      <td>9.8</td>\n",
              "      <td>5</td>\n",
              "      <td>1</td>\n",
              "    </tr>\n",
              "    <tr>\n",
              "      <th>2</th>\n",
              "      <td>7.8</td>\n",
              "      <td>0.76</td>\n",
              "      <td>0.04</td>\n",
              "      <td>2.3</td>\n",
              "      <td>0.092</td>\n",
              "      <td>15.0</td>\n",
              "      <td>54.0</td>\n",
              "      <td>0.9970</td>\n",
              "      <td>3.26</td>\n",
              "      <td>0.65</td>\n",
              "      <td>9.8</td>\n",
              "      <td>5</td>\n",
              "      <td>2</td>\n",
              "    </tr>\n",
              "    <tr>\n",
              "      <th>3</th>\n",
              "      <td>11.2</td>\n",
              "      <td>0.28</td>\n",
              "      <td>0.56</td>\n",
              "      <td>1.9</td>\n",
              "      <td>0.075</td>\n",
              "      <td>17.0</td>\n",
              "      <td>60.0</td>\n",
              "      <td>0.9980</td>\n",
              "      <td>3.16</td>\n",
              "      <td>0.58</td>\n",
              "      <td>9.8</td>\n",
              "      <td>6</td>\n",
              "      <td>3</td>\n",
              "    </tr>\n",
              "    <tr>\n",
              "      <th>4</th>\n",
              "      <td>7.4</td>\n",
              "      <td>0.70</td>\n",
              "      <td>0.00</td>\n",
              "      <td>NaN</td>\n",
              "      <td>0.076</td>\n",
              "      <td>11.0</td>\n",
              "      <td>34.0</td>\n",
              "      <td>0.9978</td>\n",
              "      <td>3.51</td>\n",
              "      <td>0.56</td>\n",
              "      <td>9.4</td>\n",
              "      <td>5</td>\n",
              "      <td>4</td>\n",
              "    </tr>\n",
              "  </tbody>\n",
              "</table>\n",
              "</div>\n",
              "    <div class=\"colab-df-buttons\">\n",
              "\n",
              "  <div class=\"colab-df-container\">\n",
              "    <button class=\"colab-df-convert\" onclick=\"convertToInteractive('df-b7aad727-27ae-4b4f-9cdf-5ac5afd5d877')\"\n",
              "            title=\"Convert this dataframe to an interactive table.\"\n",
              "            style=\"display:none;\">\n",
              "\n",
              "  <svg xmlns=\"http://www.w3.org/2000/svg\" height=\"24px\" viewBox=\"0 -960 960 960\">\n",
              "    <path d=\"M120-120v-720h720v720H120Zm60-500h600v-160H180v160Zm220 220h160v-160H400v160Zm0 220h160v-160H400v160ZM180-400h160v-160H180v160Zm440 0h160v-160H620v160ZM180-180h160v-160H180v160Zm440 0h160v-160H620v160Z\"/>\n",
              "  </svg>\n",
              "    </button>\n",
              "\n",
              "  <style>\n",
              "    .colab-df-container {\n",
              "      display:flex;\n",
              "      gap: 12px;\n",
              "    }\n",
              "\n",
              "    .colab-df-convert {\n",
              "      background-color: #E8F0FE;\n",
              "      border: none;\n",
              "      border-radius: 50%;\n",
              "      cursor: pointer;\n",
              "      display: none;\n",
              "      fill: #1967D2;\n",
              "      height: 32px;\n",
              "      padding: 0 0 0 0;\n",
              "      width: 32px;\n",
              "    }\n",
              "\n",
              "    .colab-df-convert:hover {\n",
              "      background-color: #E2EBFA;\n",
              "      box-shadow: 0px 1px 2px rgba(60, 64, 67, 0.3), 0px 1px 3px 1px rgba(60, 64, 67, 0.15);\n",
              "      fill: #174EA6;\n",
              "    }\n",
              "\n",
              "    .colab-df-buttons div {\n",
              "      margin-bottom: 4px;\n",
              "    }\n",
              "\n",
              "    [theme=dark] .colab-df-convert {\n",
              "      background-color: #3B4455;\n",
              "      fill: #D2E3FC;\n",
              "    }\n",
              "\n",
              "    [theme=dark] .colab-df-convert:hover {\n",
              "      background-color: #434B5C;\n",
              "      box-shadow: 0px 1px 3px 1px rgba(0, 0, 0, 0.15);\n",
              "      filter: drop-shadow(0px 1px 2px rgba(0, 0, 0, 0.3));\n",
              "      fill: #FFFFFF;\n",
              "    }\n",
              "  </style>\n",
              "\n",
              "    <script>\n",
              "      const buttonEl =\n",
              "        document.querySelector('#df-b7aad727-27ae-4b4f-9cdf-5ac5afd5d877 button.colab-df-convert');\n",
              "      buttonEl.style.display =\n",
              "        google.colab.kernel.accessAllowed ? 'block' : 'none';\n",
              "\n",
              "      async function convertToInteractive(key) {\n",
              "        const element = document.querySelector('#df-b7aad727-27ae-4b4f-9cdf-5ac5afd5d877');\n",
              "        const dataTable =\n",
              "          await google.colab.kernel.invokeFunction('convertToInteractive',\n",
              "                                                    [key], {});\n",
              "        if (!dataTable) return;\n",
              "\n",
              "        const docLinkHtml = 'Like what you see? Visit the ' +\n",
              "          '<a target=\"_blank\" href=https://colab.research.google.com/notebooks/data_table.ipynb>data table notebook</a>'\n",
              "          + ' to learn more about interactive tables.';\n",
              "        element.innerHTML = '';\n",
              "        dataTable['output_type'] = 'display_data';\n",
              "        await google.colab.output.renderOutput(dataTable, element);\n",
              "        const docLink = document.createElement('div');\n",
              "        docLink.innerHTML = docLinkHtml;\n",
              "        element.appendChild(docLink);\n",
              "      }\n",
              "    </script>\n",
              "  </div>\n",
              "\n",
              "\n",
              "<div id=\"df-70a5df7b-d109-42e6-acda-2685d3ab9937\">\n",
              "  <button class=\"colab-df-quickchart\" onclick=\"quickchart('df-70a5df7b-d109-42e6-acda-2685d3ab9937')\"\n",
              "            title=\"Suggest charts.\"\n",
              "            style=\"display:none;\">\n",
              "\n",
              "<svg xmlns=\"http://www.w3.org/2000/svg\" height=\"24px\"viewBox=\"0 0 24 24\"\n",
              "     width=\"24px\">\n",
              "    <g>\n",
              "        <path d=\"M19 3H5c-1.1 0-2 .9-2 2v14c0 1.1.9 2 2 2h14c1.1 0 2-.9 2-2V5c0-1.1-.9-2-2-2zM9 17H7v-7h2v7zm4 0h-2V7h2v10zm4 0h-2v-4h2v4z\"/>\n",
              "    </g>\n",
              "</svg>\n",
              "  </button>\n",
              "\n",
              "<style>\n",
              "  .colab-df-quickchart {\n",
              "    background-color: #E8F0FE;\n",
              "    border: none;\n",
              "    border-radius: 50%;\n",
              "    cursor: pointer;\n",
              "    display: none;\n",
              "    fill: #1967D2;\n",
              "    height: 32px;\n",
              "    padding: 0 0 0 0;\n",
              "    width: 32px;\n",
              "  }\n",
              "\n",
              "  .colab-df-quickchart:hover {\n",
              "    background-color: #E2EBFA;\n",
              "    box-shadow: 0px 1px 2px rgba(60, 64, 67, 0.3), 0px 1px 3px 1px rgba(60, 64, 67, 0.15);\n",
              "    fill: #174EA6;\n",
              "  }\n",
              "\n",
              "  [theme=dark] .colab-df-quickchart {\n",
              "    background-color: #3B4455;\n",
              "    fill: #D2E3FC;\n",
              "  }\n",
              "\n",
              "  [theme=dark] .colab-df-quickchart:hover {\n",
              "    background-color: #434B5C;\n",
              "    box-shadow: 0px 1px 3px 1px rgba(0, 0, 0, 0.15);\n",
              "    filter: drop-shadow(0px 1px 2px rgba(0, 0, 0, 0.3));\n",
              "    fill: #FFFFFF;\n",
              "  }\n",
              "</style>\n",
              "\n",
              "  <script>\n",
              "    async function quickchart(key) {\n",
              "      const charts = await google.colab.kernel.invokeFunction(\n",
              "          'suggestCharts', [key], {});\n",
              "    }\n",
              "    (() => {\n",
              "      let quickchartButtonEl =\n",
              "        document.querySelector('#df-70a5df7b-d109-42e6-acda-2685d3ab9937 button');\n",
              "      quickchartButtonEl.style.display =\n",
              "        google.colab.kernel.accessAllowed ? 'block' : 'none';\n",
              "    })();\n",
              "  </script>\n",
              "</div>\n",
              "    </div>\n",
              "  </div>\n"
            ]
          },
          "metadata": {},
          "execution_count": 11
        }
      ]
    },
    {
      "cell_type": "code",
      "source": [
        "df.describe()"
      ],
      "metadata": {
        "colab": {
          "base_uri": "https://localhost:8080/",
          "height": 355
        },
        "id": "ekNRTL1hcbkz",
        "outputId": "1a16f8b8-a5fe-4287-e3e9-1a672ac2eeaa"
      },
      "execution_count": null,
      "outputs": [
        {
          "output_type": "execute_result",
          "data": {
            "text/plain": [
              "       fixed acidity  volatile acidity  citric acid  residual sugar  \\\n",
              "count    1143.000000       1143.000000  1143.000000     1141.000000   \n",
              "mean        8.311111          0.531339     0.268364        2.533348   \n",
              "std         1.747595          0.179633     0.196686        1.356803   \n",
              "min         4.600000          0.120000     0.000000        0.900000   \n",
              "25%         7.100000          0.392500     0.090000        1.900000   \n",
              "50%         7.900000          0.520000     0.250000        2.200000   \n",
              "75%         9.100000          0.640000     0.420000        2.600000   \n",
              "max        15.900000          1.580000     1.000000       15.500000   \n",
              "\n",
              "         chlorides  free sulfur dioxide  total sulfur dioxide      density  \\\n",
              "count  1143.000000          1143.000000           1143.000000  1143.000000   \n",
              "mean      0.086933            15.615486             45.914698     0.996730   \n",
              "std       0.047267            10.250486             32.782130     0.001925   \n",
              "min       0.012000             1.000000              6.000000     0.990070   \n",
              "25%       0.070000             7.000000             21.000000     0.995570   \n",
              "50%       0.079000            13.000000             37.000000     0.996680   \n",
              "75%       0.090000            21.000000             61.000000     0.997845   \n",
              "max       0.611000            68.000000            289.000000     1.003690   \n",
              "\n",
              "                pH    sulphates      alcohol      quality           Id  \n",
              "count  1143.000000  1143.000000  1143.000000  1143.000000  1143.000000  \n",
              "mean      3.311015     0.657708    10.442111     5.657043   804.969379  \n",
              "std       0.156664     0.170399     1.082196     0.805824   463.997116  \n",
              "min       2.740000     0.330000     8.400000     3.000000     0.000000  \n",
              "25%       3.205000     0.550000     9.500000     5.000000   411.000000  \n",
              "50%       3.310000     0.620000    10.200000     6.000000   794.000000  \n",
              "75%       3.400000     0.730000    11.100000     6.000000  1209.500000  \n",
              "max       4.010000     2.000000    14.900000     8.000000  1597.000000  "
            ],
            "text/html": [
              "\n",
              "  <div id=\"df-9e66e3f5-7079-4334-8738-7ac8a17801b4\" class=\"colab-df-container\">\n",
              "    <div>\n",
              "<style scoped>\n",
              "    .dataframe tbody tr th:only-of-type {\n",
              "        vertical-align: middle;\n",
              "    }\n",
              "\n",
              "    .dataframe tbody tr th {\n",
              "        vertical-align: top;\n",
              "    }\n",
              "\n",
              "    .dataframe thead th {\n",
              "        text-align: right;\n",
              "    }\n",
              "</style>\n",
              "<table border=\"1\" class=\"dataframe\">\n",
              "  <thead>\n",
              "    <tr style=\"text-align: right;\">\n",
              "      <th></th>\n",
              "      <th>fixed acidity</th>\n",
              "      <th>volatile acidity</th>\n",
              "      <th>citric acid</th>\n",
              "      <th>residual sugar</th>\n",
              "      <th>chlorides</th>\n",
              "      <th>free sulfur dioxide</th>\n",
              "      <th>total sulfur dioxide</th>\n",
              "      <th>density</th>\n",
              "      <th>pH</th>\n",
              "      <th>sulphates</th>\n",
              "      <th>alcohol</th>\n",
              "      <th>quality</th>\n",
              "      <th>Id</th>\n",
              "    </tr>\n",
              "  </thead>\n",
              "  <tbody>\n",
              "    <tr>\n",
              "      <th>count</th>\n",
              "      <td>1143.000000</td>\n",
              "      <td>1143.000000</td>\n",
              "      <td>1143.000000</td>\n",
              "      <td>1141.000000</td>\n",
              "      <td>1143.000000</td>\n",
              "      <td>1143.000000</td>\n",
              "      <td>1143.000000</td>\n",
              "      <td>1143.000000</td>\n",
              "      <td>1143.000000</td>\n",
              "      <td>1143.000000</td>\n",
              "      <td>1143.000000</td>\n",
              "      <td>1143.000000</td>\n",
              "      <td>1143.000000</td>\n",
              "    </tr>\n",
              "    <tr>\n",
              "      <th>mean</th>\n",
              "      <td>8.311111</td>\n",
              "      <td>0.531339</td>\n",
              "      <td>0.268364</td>\n",
              "      <td>2.533348</td>\n",
              "      <td>0.086933</td>\n",
              "      <td>15.615486</td>\n",
              "      <td>45.914698</td>\n",
              "      <td>0.996730</td>\n",
              "      <td>3.311015</td>\n",
              "      <td>0.657708</td>\n",
              "      <td>10.442111</td>\n",
              "      <td>5.657043</td>\n",
              "      <td>804.969379</td>\n",
              "    </tr>\n",
              "    <tr>\n",
              "      <th>std</th>\n",
              "      <td>1.747595</td>\n",
              "      <td>0.179633</td>\n",
              "      <td>0.196686</td>\n",
              "      <td>1.356803</td>\n",
              "      <td>0.047267</td>\n",
              "      <td>10.250486</td>\n",
              "      <td>32.782130</td>\n",
              "      <td>0.001925</td>\n",
              "      <td>0.156664</td>\n",
              "      <td>0.170399</td>\n",
              "      <td>1.082196</td>\n",
              "      <td>0.805824</td>\n",
              "      <td>463.997116</td>\n",
              "    </tr>\n",
              "    <tr>\n",
              "      <th>min</th>\n",
              "      <td>4.600000</td>\n",
              "      <td>0.120000</td>\n",
              "      <td>0.000000</td>\n",
              "      <td>0.900000</td>\n",
              "      <td>0.012000</td>\n",
              "      <td>1.000000</td>\n",
              "      <td>6.000000</td>\n",
              "      <td>0.990070</td>\n",
              "      <td>2.740000</td>\n",
              "      <td>0.330000</td>\n",
              "      <td>8.400000</td>\n",
              "      <td>3.000000</td>\n",
              "      <td>0.000000</td>\n",
              "    </tr>\n",
              "    <tr>\n",
              "      <th>25%</th>\n",
              "      <td>7.100000</td>\n",
              "      <td>0.392500</td>\n",
              "      <td>0.090000</td>\n",
              "      <td>1.900000</td>\n",
              "      <td>0.070000</td>\n",
              "      <td>7.000000</td>\n",
              "      <td>21.000000</td>\n",
              "      <td>0.995570</td>\n",
              "      <td>3.205000</td>\n",
              "      <td>0.550000</td>\n",
              "      <td>9.500000</td>\n",
              "      <td>5.000000</td>\n",
              "      <td>411.000000</td>\n",
              "    </tr>\n",
              "    <tr>\n",
              "      <th>50%</th>\n",
              "      <td>7.900000</td>\n",
              "      <td>0.520000</td>\n",
              "      <td>0.250000</td>\n",
              "      <td>2.200000</td>\n",
              "      <td>0.079000</td>\n",
              "      <td>13.000000</td>\n",
              "      <td>37.000000</td>\n",
              "      <td>0.996680</td>\n",
              "      <td>3.310000</td>\n",
              "      <td>0.620000</td>\n",
              "      <td>10.200000</td>\n",
              "      <td>6.000000</td>\n",
              "      <td>794.000000</td>\n",
              "    </tr>\n",
              "    <tr>\n",
              "      <th>75%</th>\n",
              "      <td>9.100000</td>\n",
              "      <td>0.640000</td>\n",
              "      <td>0.420000</td>\n",
              "      <td>2.600000</td>\n",
              "      <td>0.090000</td>\n",
              "      <td>21.000000</td>\n",
              "      <td>61.000000</td>\n",
              "      <td>0.997845</td>\n",
              "      <td>3.400000</td>\n",
              "      <td>0.730000</td>\n",
              "      <td>11.100000</td>\n",
              "      <td>6.000000</td>\n",
              "      <td>1209.500000</td>\n",
              "    </tr>\n",
              "    <tr>\n",
              "      <th>max</th>\n",
              "      <td>15.900000</td>\n",
              "      <td>1.580000</td>\n",
              "      <td>1.000000</td>\n",
              "      <td>15.500000</td>\n",
              "      <td>0.611000</td>\n",
              "      <td>68.000000</td>\n",
              "      <td>289.000000</td>\n",
              "      <td>1.003690</td>\n",
              "      <td>4.010000</td>\n",
              "      <td>2.000000</td>\n",
              "      <td>14.900000</td>\n",
              "      <td>8.000000</td>\n",
              "      <td>1597.000000</td>\n",
              "    </tr>\n",
              "  </tbody>\n",
              "</table>\n",
              "</div>\n",
              "    <div class=\"colab-df-buttons\">\n",
              "\n",
              "  <div class=\"colab-df-container\">\n",
              "    <button class=\"colab-df-convert\" onclick=\"convertToInteractive('df-9e66e3f5-7079-4334-8738-7ac8a17801b4')\"\n",
              "            title=\"Convert this dataframe to an interactive table.\"\n",
              "            style=\"display:none;\">\n",
              "\n",
              "  <svg xmlns=\"http://www.w3.org/2000/svg\" height=\"24px\" viewBox=\"0 -960 960 960\">\n",
              "    <path d=\"M120-120v-720h720v720H120Zm60-500h600v-160H180v160Zm220 220h160v-160H400v160Zm0 220h160v-160H400v160ZM180-400h160v-160H180v160Zm440 0h160v-160H620v160ZM180-180h160v-160H180v160Zm440 0h160v-160H620v160Z\"/>\n",
              "  </svg>\n",
              "    </button>\n",
              "\n",
              "  <style>\n",
              "    .colab-df-container {\n",
              "      display:flex;\n",
              "      gap: 12px;\n",
              "    }\n",
              "\n",
              "    .colab-df-convert {\n",
              "      background-color: #E8F0FE;\n",
              "      border: none;\n",
              "      border-radius: 50%;\n",
              "      cursor: pointer;\n",
              "      display: none;\n",
              "      fill: #1967D2;\n",
              "      height: 32px;\n",
              "      padding: 0 0 0 0;\n",
              "      width: 32px;\n",
              "    }\n",
              "\n",
              "    .colab-df-convert:hover {\n",
              "      background-color: #E2EBFA;\n",
              "      box-shadow: 0px 1px 2px rgba(60, 64, 67, 0.3), 0px 1px 3px 1px rgba(60, 64, 67, 0.15);\n",
              "      fill: #174EA6;\n",
              "    }\n",
              "\n",
              "    .colab-df-buttons div {\n",
              "      margin-bottom: 4px;\n",
              "    }\n",
              "\n",
              "    [theme=dark] .colab-df-convert {\n",
              "      background-color: #3B4455;\n",
              "      fill: #D2E3FC;\n",
              "    }\n",
              "\n",
              "    [theme=dark] .colab-df-convert:hover {\n",
              "      background-color: #434B5C;\n",
              "      box-shadow: 0px 1px 3px 1px rgba(0, 0, 0, 0.15);\n",
              "      filter: drop-shadow(0px 1px 2px rgba(0, 0, 0, 0.3));\n",
              "      fill: #FFFFFF;\n",
              "    }\n",
              "  </style>\n",
              "\n",
              "    <script>\n",
              "      const buttonEl =\n",
              "        document.querySelector('#df-9e66e3f5-7079-4334-8738-7ac8a17801b4 button.colab-df-convert');\n",
              "      buttonEl.style.display =\n",
              "        google.colab.kernel.accessAllowed ? 'block' : 'none';\n",
              "\n",
              "      async function convertToInteractive(key) {\n",
              "        const element = document.querySelector('#df-9e66e3f5-7079-4334-8738-7ac8a17801b4');\n",
              "        const dataTable =\n",
              "          await google.colab.kernel.invokeFunction('convertToInteractive',\n",
              "                                                    [key], {});\n",
              "        if (!dataTable) return;\n",
              "\n",
              "        const docLinkHtml = 'Like what you see? Visit the ' +\n",
              "          '<a target=\"_blank\" href=https://colab.research.google.com/notebooks/data_table.ipynb>data table notebook</a>'\n",
              "          + ' to learn more about interactive tables.';\n",
              "        element.innerHTML = '';\n",
              "        dataTable['output_type'] = 'display_data';\n",
              "        await google.colab.output.renderOutput(dataTable, element);\n",
              "        const docLink = document.createElement('div');\n",
              "        docLink.innerHTML = docLinkHtml;\n",
              "        element.appendChild(docLink);\n",
              "      }\n",
              "    </script>\n",
              "  </div>\n",
              "\n",
              "\n",
              "<div id=\"df-95d8b475-5171-446d-a0e3-6f4b119cfc16\">\n",
              "  <button class=\"colab-df-quickchart\" onclick=\"quickchart('df-95d8b475-5171-446d-a0e3-6f4b119cfc16')\"\n",
              "            title=\"Suggest charts.\"\n",
              "            style=\"display:none;\">\n",
              "\n",
              "<svg xmlns=\"http://www.w3.org/2000/svg\" height=\"24px\"viewBox=\"0 0 24 24\"\n",
              "     width=\"24px\">\n",
              "    <g>\n",
              "        <path d=\"M19 3H5c-1.1 0-2 .9-2 2v14c0 1.1.9 2 2 2h14c1.1 0 2-.9 2-2V5c0-1.1-.9-2-2-2zM9 17H7v-7h2v7zm4 0h-2V7h2v10zm4 0h-2v-4h2v4z\"/>\n",
              "    </g>\n",
              "</svg>\n",
              "  </button>\n",
              "\n",
              "<style>\n",
              "  .colab-df-quickchart {\n",
              "    background-color: #E8F0FE;\n",
              "    border: none;\n",
              "    border-radius: 50%;\n",
              "    cursor: pointer;\n",
              "    display: none;\n",
              "    fill: #1967D2;\n",
              "    height: 32px;\n",
              "    padding: 0 0 0 0;\n",
              "    width: 32px;\n",
              "  }\n",
              "\n",
              "  .colab-df-quickchart:hover {\n",
              "    background-color: #E2EBFA;\n",
              "    box-shadow: 0px 1px 2px rgba(60, 64, 67, 0.3), 0px 1px 3px 1px rgba(60, 64, 67, 0.15);\n",
              "    fill: #174EA6;\n",
              "  }\n",
              "\n",
              "  [theme=dark] .colab-df-quickchart {\n",
              "    background-color: #3B4455;\n",
              "    fill: #D2E3FC;\n",
              "  }\n",
              "\n",
              "  [theme=dark] .colab-df-quickchart:hover {\n",
              "    background-color: #434B5C;\n",
              "    box-shadow: 0px 1px 3px 1px rgba(0, 0, 0, 0.15);\n",
              "    filter: drop-shadow(0px 1px 2px rgba(0, 0, 0, 0.3));\n",
              "    fill: #FFFFFF;\n",
              "  }\n",
              "</style>\n",
              "\n",
              "  <script>\n",
              "    async function quickchart(key) {\n",
              "      const charts = await google.colab.kernel.invokeFunction(\n",
              "          'suggestCharts', [key], {});\n",
              "    }\n",
              "    (() => {\n",
              "      let quickchartButtonEl =\n",
              "        document.querySelector('#df-95d8b475-5171-446d-a0e3-6f4b119cfc16 button');\n",
              "      quickchartButtonEl.style.display =\n",
              "        google.colab.kernel.accessAllowed ? 'block' : 'none';\n",
              "    })();\n",
              "  </script>\n",
              "</div>\n",
              "    </div>\n",
              "  </div>\n"
            ]
          },
          "metadata": {},
          "execution_count": 12
        }
      ]
    },
    {
      "cell_type": "markdown",
      "source": [
        "Data Preprocessing"
      ],
      "metadata": {
        "id": "MkGW6ZcRULwa"
      }
    },
    {
      "cell_type": "code",
      "source": [
        "# Check for null values\n",
        "print(df.isnull().sum())\n",
        "\n",
        "# Fill missing values for 'residual sugar' with mean\n",
        "df['residual sugar'] = df['residual sugar'].fillna(df['residual sugar'].mean())\n",
        "\n",
        "# Fill missing values for 'chlorides' with mean\n",
        "df['chlorides'] = df['chlorides'].fillna(df['chlorides'].mean())\n",
        "\n",
        "# Fill missing values for 'volatile acidity' with mean\n",
        "df['volatile acidity'] = df['volatile acidity'].fillna(df['volatile acidity'].mean())\n",
        "\n",
        "# Fill missing values for 'citric acid' with mean\n",
        "df['citric acid'] = df['citric acid'].fillna(df['citric acid'].mean())\n",
        "\n",
        "# Recheck null values\n",
        "print(df.isnull().sum())\n",
        "\n",
        "# Export cleaned dataset to new csv file\n",
        "df.to_csv('WineQT_cleaned.csv', index=False)"
      ],
      "metadata": {
        "colab": {
          "base_uri": "https://localhost:8080/"
        },
        "id": "1hJhZ-wiS1DR",
        "outputId": "7882a5ef-427e-49cf-b8ef-77eb5dbf0904"
      },
      "execution_count": null,
      "outputs": [
        {
          "output_type": "stream",
          "name": "stdout",
          "text": [
            "fixed acidity           0\n",
            "volatile acidity        0\n",
            "citric acid             0\n",
            "residual sugar          2\n",
            "chlorides               0\n",
            "free sulfur dioxide     0\n",
            "total sulfur dioxide    0\n",
            "density                 0\n",
            "pH                      0\n",
            "sulphates               0\n",
            "alcohol                 0\n",
            "quality                 0\n",
            "Id                      0\n",
            "dtype: int64\n",
            "fixed acidity           0\n",
            "volatile acidity        0\n",
            "citric acid             0\n",
            "residual sugar          0\n",
            "chlorides               0\n",
            "free sulfur dioxide     0\n",
            "total sulfur dioxide    0\n",
            "density                 0\n",
            "pH                      0\n",
            "sulphates               0\n",
            "alcohol                 0\n",
            "quality                 0\n",
            "Id                      0\n",
            "dtype: int64\n"
          ]
        }
      ]
    },
    {
      "cell_type": "code",
      "source": [
        "df.head()"
      ],
      "metadata": {
        "colab": {
          "base_uri": "https://localhost:8080/",
          "height": 241
        },
        "id": "ogc8h0Q7TXrP",
        "outputId": "94dfddc1-56af-410b-a066-2489f8aa84f3"
      },
      "execution_count": null,
      "outputs": [
        {
          "output_type": "execute_result",
          "data": {
            "text/plain": [
              "   fixed acidity  volatile acidity  citric acid  residual sugar  chlorides  \\\n",
              "0            7.4              0.70         0.00        1.900000      0.076   \n",
              "1            7.8              0.88         0.00        2.600000      0.098   \n",
              "2            7.8              0.76         0.04        2.300000      0.092   \n",
              "3           11.2              0.28         0.56        1.900000      0.075   \n",
              "4            7.4              0.70         0.00        2.533348      0.076   \n",
              "\n",
              "   free sulfur dioxide  total sulfur dioxide  density    pH  sulphates  \\\n",
              "0                 11.0                  34.0   0.9978  3.51       0.56   \n",
              "1                 25.0                  67.0   0.9968  3.20       0.68   \n",
              "2                 15.0                  54.0   0.9970  3.26       0.65   \n",
              "3                 17.0                  60.0   0.9980  3.16       0.58   \n",
              "4                 11.0                  34.0   0.9978  3.51       0.56   \n",
              "\n",
              "   alcohol  quality  Id  \n",
              "0      9.4        5   0  \n",
              "1      9.8        5   1  \n",
              "2      9.8        5   2  \n",
              "3      9.8        6   3  \n",
              "4      9.4        5   4  "
            ],
            "text/html": [
              "\n",
              "  <div id=\"df-4d28e549-5064-43d4-b270-88b0dde815e3\" class=\"colab-df-container\">\n",
              "    <div>\n",
              "<style scoped>\n",
              "    .dataframe tbody tr th:only-of-type {\n",
              "        vertical-align: middle;\n",
              "    }\n",
              "\n",
              "    .dataframe tbody tr th {\n",
              "        vertical-align: top;\n",
              "    }\n",
              "\n",
              "    .dataframe thead th {\n",
              "        text-align: right;\n",
              "    }\n",
              "</style>\n",
              "<table border=\"1\" class=\"dataframe\">\n",
              "  <thead>\n",
              "    <tr style=\"text-align: right;\">\n",
              "      <th></th>\n",
              "      <th>fixed acidity</th>\n",
              "      <th>volatile acidity</th>\n",
              "      <th>citric acid</th>\n",
              "      <th>residual sugar</th>\n",
              "      <th>chlorides</th>\n",
              "      <th>free sulfur dioxide</th>\n",
              "      <th>total sulfur dioxide</th>\n",
              "      <th>density</th>\n",
              "      <th>pH</th>\n",
              "      <th>sulphates</th>\n",
              "      <th>alcohol</th>\n",
              "      <th>quality</th>\n",
              "      <th>Id</th>\n",
              "    </tr>\n",
              "  </thead>\n",
              "  <tbody>\n",
              "    <tr>\n",
              "      <th>0</th>\n",
              "      <td>7.4</td>\n",
              "      <td>0.70</td>\n",
              "      <td>0.00</td>\n",
              "      <td>1.900000</td>\n",
              "      <td>0.076</td>\n",
              "      <td>11.0</td>\n",
              "      <td>34.0</td>\n",
              "      <td>0.9978</td>\n",
              "      <td>3.51</td>\n",
              "      <td>0.56</td>\n",
              "      <td>9.4</td>\n",
              "      <td>5</td>\n",
              "      <td>0</td>\n",
              "    </tr>\n",
              "    <tr>\n",
              "      <th>1</th>\n",
              "      <td>7.8</td>\n",
              "      <td>0.88</td>\n",
              "      <td>0.00</td>\n",
              "      <td>2.600000</td>\n",
              "      <td>0.098</td>\n",
              "      <td>25.0</td>\n",
              "      <td>67.0</td>\n",
              "      <td>0.9968</td>\n",
              "      <td>3.20</td>\n",
              "      <td>0.68</td>\n",
              "      <td>9.8</td>\n",
              "      <td>5</td>\n",
              "      <td>1</td>\n",
              "    </tr>\n",
              "    <tr>\n",
              "      <th>2</th>\n",
              "      <td>7.8</td>\n",
              "      <td>0.76</td>\n",
              "      <td>0.04</td>\n",
              "      <td>2.300000</td>\n",
              "      <td>0.092</td>\n",
              "      <td>15.0</td>\n",
              "      <td>54.0</td>\n",
              "      <td>0.9970</td>\n",
              "      <td>3.26</td>\n",
              "      <td>0.65</td>\n",
              "      <td>9.8</td>\n",
              "      <td>5</td>\n",
              "      <td>2</td>\n",
              "    </tr>\n",
              "    <tr>\n",
              "      <th>3</th>\n",
              "      <td>11.2</td>\n",
              "      <td>0.28</td>\n",
              "      <td>0.56</td>\n",
              "      <td>1.900000</td>\n",
              "      <td>0.075</td>\n",
              "      <td>17.0</td>\n",
              "      <td>60.0</td>\n",
              "      <td>0.9980</td>\n",
              "      <td>3.16</td>\n",
              "      <td>0.58</td>\n",
              "      <td>9.8</td>\n",
              "      <td>6</td>\n",
              "      <td>3</td>\n",
              "    </tr>\n",
              "    <tr>\n",
              "      <th>4</th>\n",
              "      <td>7.4</td>\n",
              "      <td>0.70</td>\n",
              "      <td>0.00</td>\n",
              "      <td>2.533348</td>\n",
              "      <td>0.076</td>\n",
              "      <td>11.0</td>\n",
              "      <td>34.0</td>\n",
              "      <td>0.9978</td>\n",
              "      <td>3.51</td>\n",
              "      <td>0.56</td>\n",
              "      <td>9.4</td>\n",
              "      <td>5</td>\n",
              "      <td>4</td>\n",
              "    </tr>\n",
              "  </tbody>\n",
              "</table>\n",
              "</div>\n",
              "    <div class=\"colab-df-buttons\">\n",
              "\n",
              "  <div class=\"colab-df-container\">\n",
              "    <button class=\"colab-df-convert\" onclick=\"convertToInteractive('df-4d28e549-5064-43d4-b270-88b0dde815e3')\"\n",
              "            title=\"Convert this dataframe to an interactive table.\"\n",
              "            style=\"display:none;\">\n",
              "\n",
              "  <svg xmlns=\"http://www.w3.org/2000/svg\" height=\"24px\" viewBox=\"0 -960 960 960\">\n",
              "    <path d=\"M120-120v-720h720v720H120Zm60-500h600v-160H180v160Zm220 220h160v-160H400v160Zm0 220h160v-160H400v160ZM180-400h160v-160H180v160Zm440 0h160v-160H620v160ZM180-180h160v-160H180v160Zm440 0h160v-160H620v160Z\"/>\n",
              "  </svg>\n",
              "    </button>\n",
              "\n",
              "  <style>\n",
              "    .colab-df-container {\n",
              "      display:flex;\n",
              "      gap: 12px;\n",
              "    }\n",
              "\n",
              "    .colab-df-convert {\n",
              "      background-color: #E8F0FE;\n",
              "      border: none;\n",
              "      border-radius: 50%;\n",
              "      cursor: pointer;\n",
              "      display: none;\n",
              "      fill: #1967D2;\n",
              "      height: 32px;\n",
              "      padding: 0 0 0 0;\n",
              "      width: 32px;\n",
              "    }\n",
              "\n",
              "    .colab-df-convert:hover {\n",
              "      background-color: #E2EBFA;\n",
              "      box-shadow: 0px 1px 2px rgba(60, 64, 67, 0.3), 0px 1px 3px 1px rgba(60, 64, 67, 0.15);\n",
              "      fill: #174EA6;\n",
              "    }\n",
              "\n",
              "    .colab-df-buttons div {\n",
              "      margin-bottom: 4px;\n",
              "    }\n",
              "\n",
              "    [theme=dark] .colab-df-convert {\n",
              "      background-color: #3B4455;\n",
              "      fill: #D2E3FC;\n",
              "    }\n",
              "\n",
              "    [theme=dark] .colab-df-convert:hover {\n",
              "      background-color: #434B5C;\n",
              "      box-shadow: 0px 1px 3px 1px rgba(0, 0, 0, 0.15);\n",
              "      filter: drop-shadow(0px 1px 2px rgba(0, 0, 0, 0.3));\n",
              "      fill: #FFFFFF;\n",
              "    }\n",
              "  </style>\n",
              "\n",
              "    <script>\n",
              "      const buttonEl =\n",
              "        document.querySelector('#df-4d28e549-5064-43d4-b270-88b0dde815e3 button.colab-df-convert');\n",
              "      buttonEl.style.display =\n",
              "        google.colab.kernel.accessAllowed ? 'block' : 'none';\n",
              "\n",
              "      async function convertToInteractive(key) {\n",
              "        const element = document.querySelector('#df-4d28e549-5064-43d4-b270-88b0dde815e3');\n",
              "        const dataTable =\n",
              "          await google.colab.kernel.invokeFunction('convertToInteractive',\n",
              "                                                    [key], {});\n",
              "        if (!dataTable) return;\n",
              "\n",
              "        const docLinkHtml = 'Like what you see? Visit the ' +\n",
              "          '<a target=\"_blank\" href=https://colab.research.google.com/notebooks/data_table.ipynb>data table notebook</a>'\n",
              "          + ' to learn more about interactive tables.';\n",
              "        element.innerHTML = '';\n",
              "        dataTable['output_type'] = 'display_data';\n",
              "        await google.colab.output.renderOutput(dataTable, element);\n",
              "        const docLink = document.createElement('div');\n",
              "        docLink.innerHTML = docLinkHtml;\n",
              "        element.appendChild(docLink);\n",
              "      }\n",
              "    </script>\n",
              "  </div>\n",
              "\n",
              "\n",
              "<div id=\"df-d8428ec4-480b-4b04-b535-50a0677ba880\">\n",
              "  <button class=\"colab-df-quickchart\" onclick=\"quickchart('df-d8428ec4-480b-4b04-b535-50a0677ba880')\"\n",
              "            title=\"Suggest charts.\"\n",
              "            style=\"display:none;\">\n",
              "\n",
              "<svg xmlns=\"http://www.w3.org/2000/svg\" height=\"24px\"viewBox=\"0 0 24 24\"\n",
              "     width=\"24px\">\n",
              "    <g>\n",
              "        <path d=\"M19 3H5c-1.1 0-2 .9-2 2v14c0 1.1.9 2 2 2h14c1.1 0 2-.9 2-2V5c0-1.1-.9-2-2-2zM9 17H7v-7h2v7zm4 0h-2V7h2v10zm4 0h-2v-4h2v4z\"/>\n",
              "    </g>\n",
              "</svg>\n",
              "  </button>\n",
              "\n",
              "<style>\n",
              "  .colab-df-quickchart {\n",
              "    background-color: #E8F0FE;\n",
              "    border: none;\n",
              "    border-radius: 50%;\n",
              "    cursor: pointer;\n",
              "    display: none;\n",
              "    fill: #1967D2;\n",
              "    height: 32px;\n",
              "    padding: 0 0 0 0;\n",
              "    width: 32px;\n",
              "  }\n",
              "\n",
              "  .colab-df-quickchart:hover {\n",
              "    background-color: #E2EBFA;\n",
              "    box-shadow: 0px 1px 2px rgba(60, 64, 67, 0.3), 0px 1px 3px 1px rgba(60, 64, 67, 0.15);\n",
              "    fill: #174EA6;\n",
              "  }\n",
              "\n",
              "  [theme=dark] .colab-df-quickchart {\n",
              "    background-color: #3B4455;\n",
              "    fill: #D2E3FC;\n",
              "  }\n",
              "\n",
              "  [theme=dark] .colab-df-quickchart:hover {\n",
              "    background-color: #434B5C;\n",
              "    box-shadow: 0px 1px 3px 1px rgba(0, 0, 0, 0.15);\n",
              "    filter: drop-shadow(0px 1px 2px rgba(0, 0, 0, 0.3));\n",
              "    fill: #FFFFFF;\n",
              "  }\n",
              "</style>\n",
              "\n",
              "  <script>\n",
              "    async function quickchart(key) {\n",
              "      const charts = await google.colab.kernel.invokeFunction(\n",
              "          'suggestCharts', [key], {});\n",
              "    }\n",
              "    (() => {\n",
              "      let quickchartButtonEl =\n",
              "        document.querySelector('#df-d8428ec4-480b-4b04-b535-50a0677ba880 button');\n",
              "      quickchartButtonEl.style.display =\n",
              "        google.colab.kernel.accessAllowed ? 'block' : 'none';\n",
              "    })();\n",
              "  </script>\n",
              "</div>\n",
              "    </div>\n",
              "  </div>\n"
            ]
          },
          "metadata": {},
          "execution_count": 14
        }
      ]
    },
    {
      "cell_type": "markdown",
      "source": [
        "Scaling"
      ],
      "metadata": {
        "id": "bDuHmrsbUqMS"
      }
    },
    {
      "cell_type": "code",
      "source": [
        "# Load cleaned dataset\n",
        "df = pd.read_csv('WineQT_cleaned.csv')\n",
        "\n",
        "# List of numerical columns to scale\n",
        "num_cols = ['fixed acidity', 'volatile acidity', 'citric acid', 'residual sugar',\n",
        "            'chlorides', 'free sulfur dioxide', 'total sulfur dioxide',\n",
        "            'density', 'pH', 'sulphates', 'alcohol']\n",
        "\n",
        "# Create scaler object\n",
        "scaler = MinMaxScaler()\n",
        "\n",
        "# Scale numerical features\n",
        "df[num_cols] = scaler.fit_transform(df[num_cols])\n",
        "\n",
        "# Export scaled dataset to new file\n",
        "df.to_csv('WineQT_scaled.csv', index=False)"
      ],
      "metadata": {
        "id": "20UPcPkIUU4e"
      },
      "execution_count": null,
      "outputs": []
    },
    {
      "cell_type": "code",
      "source": [
        "correlations=df.corr()['quality'].drop('quality')\n",
        "print(correlations)"
      ],
      "metadata": {
        "colab": {
          "base_uri": "https://localhost:8080/"
        },
        "id": "YrT3urXZcgOO",
        "outputId": "b0d7abd7-6ced-4a70-f607-6511a280dae7"
      },
      "execution_count": null,
      "outputs": [
        {
          "output_type": "stream",
          "name": "stdout",
          "text": [
            "fixed acidity           0.121970\n",
            "volatile acidity       -0.407394\n",
            "citric acid             0.240821\n",
            "residual sugar          0.021287\n",
            "chlorides              -0.124085\n",
            "free sulfur dioxide    -0.063260\n",
            "total sulfur dioxide   -0.183339\n",
            "density                -0.175208\n",
            "pH                     -0.052453\n",
            "sulphates               0.257710\n",
            "alcohol                 0.484866\n",
            "Id                      0.069708\n",
            "Name: quality, dtype: float64\n"
          ]
        }
      ]
    },
    {
      "cell_type": "code",
      "source": [
        "sns.heatmap(df.corr())\n",
        "plt.show()"
      ],
      "metadata": {
        "colab": {
          "base_uri": "https://localhost:8080/",
          "height": 552
        },
        "id": "qIfGSV59ctNT",
        "outputId": "f7d7ac78-cb89-4fe8-95d3-637d0a3ae691"
      },
      "execution_count": null,
      "outputs": [
        {
          "output_type": "display_data",
          "data": {
            "text/plain": [
              "<Figure size 640x480 with 2 Axes>"
            ],
            "image/png": "[encoded data removed]"
          },
          "metadata": {}
        }
      ]
    },
    {
      "cell_type": "code",
      "source": [
        "def get_features(correlation_threshold):\n",
        "  abs_corrs=correlations.abs()\n",
        "  high_correlations = abs_corrs[abs_corrs> correlation_threshold].index.values.tolist()\n",
        "  return high_correlations\n"
      ],
      "metadata": {
        "id": "JnW1eX3rcynj"
      },
      "execution_count": null,
      "outputs": []
    },
    {
      "cell_type": "code",
      "source": [
        "features=get_features(0.05)\n",
        "print(features)\n",
        "x=df[features]\n",
        "y=df['quality']"
      ],
      "metadata": {
        "colab": {
          "base_uri": "https://localhost:8080/"
        },
        "id": "eEGm0yKRdYsm",
        "outputId": "dc5d3642-e7a4-4afd-d124-791488118f33"
      },
      "execution_count": null,
      "outputs": [
        {
          "output_type": "stream",
          "name": "stdout",
          "text": [
            "['fixed acidity', 'volatile acidity', 'citric acid', 'chlorides', 'free sulfur dioxide', 'total sulfur dioxide', 'density', 'pH', 'sulphates', 'alcohol', 'Id']\n"
          ]
        }
      ]
    },
    {
      "cell_type": "code",
      "source": [
        "#x"
      ],
      "metadata": {
        "id": "IF_ZEEKMdrB9"
      },
      "execution_count": null,
      "outputs": []
    },
    {
      "cell_type": "code",
      "source": [
        "#y"
      ],
      "metadata": {
        "id": "d0rC7GeHdwte"
      },
      "execution_count": null,
      "outputs": []
    },
    {
      "cell_type": "code",
      "source": [
        "x_train,x_test,y_train,y_test=train_test_split(x,y,random_state=3)"
      ],
      "metadata": {
        "id": "rKJt9G6KejWJ"
      },
      "execution_count": null,
      "outputs": []
    },
    {
      "cell_type": "markdown",
      "source": [
        "Linear Regression Model"
      ],
      "metadata": {
        "id": "JunqRV9c2mtQ"
      }
    },
    {
      "cell_type": "code",
      "source": [
        "#fitting linear regression to training data\n",
        "regressor = LinearRegression()\n",
        "regressor.fit(x_train,y_train)"
      ],
      "metadata": {
        "id": "rM364xgngaDx",
        "colab": {
          "base_uri": "https://localhost:8080/",
          "height": 75
        },
        "outputId": "4e1b950a-a8a0-47a4-8e61-d59073c6cc8b"
      },
      "execution_count": null,
      "outputs": [
        {
          "output_type": "execute_result",
          "data": {
            "text/plain": [
              "LinearRegression()"
            ],
            "text/html": [
              "<style>#sk-container-id-1 {color: black;background-color: white;}#sk-container-id-1 pre{padding: 0;}#sk-container-id-1 div.sk-toggleable {background-color: white;}#sk-container-id-1 label.sk-toggleable__label {cursor: pointer;display: block;width: 100%;margin-bottom: 0;padding: 0.3em;box-sizing: border-box;text-align: center;}#sk-container-id-1 label.sk-toggleable__label-arrow:before {content: \"▸\";float: left;margin-right: 0.25em;color: #696969;}#sk-container-id-1 label.sk-toggleable__label-arrow:hover:before {color: black;}#sk-container-id-1 div.sk-estimator:hover label.sk-toggleable__label-arrow:before {color: black;}#sk-container-id-1 div.sk-toggleable__content {max-height: 0;max-width: 0;overflow: hidden;text-align: left;background-color: #f0f8ff;}#sk-container-id-1 div.sk-toggleable__content pre {margin: 0.2em;color: black;border-radius: 0.25em;background-color: #f0f8ff;}#sk-container-id-1 input.sk-toggleable__control:checked~div.sk-toggleable__content {max-height: 200px;max-width: 100%;overflow: auto;}#sk-container-id-1 input.sk-toggleable__control:checked~label.sk-toggleable__label-arrow:before {content: \"▾\";}#sk-container-id-1 div.sk-estimator input.sk-toggleable__control:checked~label.sk-toggleable__label {background-color: #d4ebff;}#sk-container-id-1 div.sk-label input.sk-toggleable__control:checked~label.sk-toggleable__label {background-color: #d4ebff;}#sk-container-id-1 input.sk-hidden--visually {border: 0;clip: rect(1px 1px 1px 1px);clip: rect(1px, 1px, 1px, 1px);height: 1px;margin: -1px;overflow: hidden;padding: 0;position: absolute;width: 1px;}#sk-container-id-1 div.sk-estimator {font-family: monospace;background-color: #f0f8ff;border: 1px dotted black;border-radius: 0.25em;box-sizing: border-box;margin-bottom: 0.5em;}#sk-container-id-1 div.sk-estimator:hover {background-color: #d4ebff;}#sk-container-id-1 div.sk-parallel-item::after {content: \"\";width: 100%;border-bottom: 1px solid gray;flex-grow: 1;}#sk-container-id-1 div.sk-label:hover label.sk-toggleable__label {background-color: #d4ebff;}#sk-container-id-1 div.sk-serial::before {content: \"\";position: absolute;border-left: 1px solid gray;box-sizing: border-box;top: 0;bottom: 0;left: 50%;z-index: 0;}#sk-container-id-1 div.sk-serial {display: flex;flex-direction: column;align-items: center;background-color: white;padding-right: 0.2em;padding-left: 0.2em;position: relative;}#sk-container-id-1 div.sk-item {position: relative;z-index: 1;}#sk-container-id-1 div.sk-parallel {display: flex;align-items: stretch;justify-content: center;background-color: white;position: relative;}#sk-container-id-1 div.sk-item::before, #sk-container-id-1 div.sk-parallel-item::before {content: \"\";position: absolute;border-left: 1px solid gray;box-sizing: border-box;top: 0;bottom: 0;left: 50%;z-index: -1;}#sk-container-id-1 div.sk-parallel-item {display: flex;flex-direction: column;z-index: 1;position: relative;background-color: white;}#sk-container-id-1 div.sk-parallel-item:first-child::after {align-self: flex-end;width: 50%;}#sk-container-id-1 div.sk-parallel-item:last-child::after {align-self: flex-start;width: 50%;}#sk-container-id-1 div.sk-parallel-item:only-child::after {width: 0;}#sk-container-id-1 div.sk-dashed-wrapped {border: 1px dashed gray;margin: 0 0.4em 0.5em 0.4em;box-sizing: border-box;padding-bottom: 0.4em;background-color: white;}#sk-container-id-1 div.sk-label label {font-family: monospace;font-weight: bold;display: inline-block;line-height: 1.2em;}#sk-container-id-1 div.sk-label-container {text-align: center;}#sk-container-id-1 div.sk-container {/* jupyter's `normalize.less` sets `[hidden] { display: none; }` but bootstrap.min.css set `[hidden] { display: none !important; }` so we also need the `!important` here to be able to override the default hidden behavior on the sphinx rendered scikit-learn.org. See: https://github.com/scikit-learn/scikit-learn/issues/21755 */display: inline-block !important;position: relative;}#sk-container-id-1 div.sk-text-repr-fallback {display: none;}</style><div id=\"sk-container-id-1\" class=\"sk-top-container\"><div class=\"sk-text-repr-fallback\"><pre>LinearRegression()</pre><b>In a Jupyter environment, please rerun this cell to show the HTML representation or trust the notebook. <br />On GitHub, the HTML representation is unable to render, please try loading this page with nbviewer.org.</b></div><div class=\"sk-container\" hidden><div class=\"sk-item\"><div class=\"sk-estimator sk-toggleable\"><input class=\"sk-toggleable__control sk-hidden--visually\" id=\"sk-estimator-id-1\" type=\"checkbox\" checked><label for=\"sk-estimator-id-1\" class=\"sk-toggleable__label sk-toggleable__label-arrow\">LinearRegression</label><div class=\"sk-toggleable__content\"><pre>LinearRegression()</pre></div></div></div></div></div>"
            ]
          },
          "metadata": {},
          "execution_count": 23
        }
      ]
    },
    {
      "cell_type": "code",
      "source": [
        "#this gives the coefficients of the 10 features selected above.\n",
        "print(regressor.coef_)"
      ],
      "metadata": {
        "id": "l0S1DuJEg55O",
        "colab": {
          "base_uri": "https://localhost:8080/"
        },
        "outputId": "472003a1-bd19-4cec-a95e-97809518f832"
      },
      "execution_count": null,
      "outputs": [
        {
          "output_type": "stream",
          "name": "stdout",
          "text": [
            "[ 2.07932257e-01 -1.61531216e+00 -1.09293381e-01 -9.78026868e-01\n",
            "  2.16173394e-01 -8.52493255e-01 -2.53022231e-01 -5.33601037e-01\n",
            "  1.57295226e+00  1.66635730e+00 -1.79450771e-05]\n"
          ]
        }
      ]
    },
    {
      "cell_type": "code",
      "source": [
        "train_pred = regressor.predict(x_train)\n",
        "print(train_pred)"
      ],
      "metadata": {
        "id": "3xon2aKFiS1B",
        "colab": {
          "base_uri": "https://localhost:8080/"
        },
        "outputId": "4d3bca2b-3c00-4522-8f1f-de5bfb61731b"
      },
      "execution_count": null,
      "outputs": [
        {
          "output_type": "stream",
          "name": "stdout",
          "text": [
            "[6.38751978 6.34963116 4.86674721 5.93025676 4.72875815 5.35018324\n",
            " 5.12649514 5.8113873  5.9796602  6.42830763 4.9254094  4.8927923\n",
            " 5.35547278 6.14999935 6.77637539 5.36842642 5.61950091 5.61875267\n",
            " 5.77040291 5.06689209 6.15167807 5.16867546 5.83410447 5.39601564\n",
            " 5.59202605 5.81231689 5.75208958 5.32128974 6.36161367 6.16867425\n",
            " 5.11296728 6.43831324 5.84390274 5.18958334 5.14832027 6.28887977\n",
            " 5.87977949 6.64758602 5.36212657 5.97726057 6.25074452 6.08918251\n",
            " 5.38431664 5.677163   5.58443847 6.02207484 5.38665568 5.83188358\n",
            " 5.04199267 5.41860999 5.51330171 5.42117976 6.14915612 5.74857852\n",
            " 5.27002408 5.10106914 5.82464547 5.35545483 5.34966542 5.19876824\n",
            " 6.23459348 6.18519762 5.390721   5.99619494 6.06702771 5.18693708\n",
            " 5.02898523 5.62981511 6.31565008 6.39066648 6.17378188 5.19017527\n",
            " 5.36021953 5.84429437 5.24054831 5.12818647 5.35293276 5.77089998\n",
            " 5.18618664 5.03028125 5.68799864 5.67714084 5.29999854 5.07211166\n",
            " 5.81053812 5.01105435 5.37736873 5.1345973  5.35318764 5.78389737\n",
            " 6.51157563 6.62120408 4.99461152 5.5145292  6.32783841 5.57221842\n",
            " 5.04522774 5.18686651 5.91931072 6.17258728 5.06241863 6.27281947\n",
            " 5.15916701 5.8312464  5.25111905 5.28768834 5.51446974 5.62622767\n",
            " 5.03382691 5.14527724 6.46713539 6.20505618 5.46093055 5.00049013\n",
            " 5.47846358 5.27642805 5.85482086 6.00940032 5.69273957 6.09684507\n",
            " 6.16206359 5.78282657 6.4035668  6.13103217 6.34133192 5.32939433\n",
            " 5.36886101 5.16199905 5.64293957 6.23362755 5.27154905 5.55416937\n",
            " 5.77484809 5.19201821 5.05012246 5.36614716 5.1401861  6.37474512\n",
            " 5.77041171 5.27513368 5.02922217 5.6217648  6.73476338 5.19652346\n",
            " 6.13640255 5.32943022 5.44916592 4.98178245 6.07766895 5.88884882\n",
            " 5.38914377 6.11993034 6.5428717  6.24360486 5.35624355 5.73538905\n",
            " 5.77327263 6.22013958 5.02120647 5.10463259 5.43823909 5.29104114\n",
            " 5.15378579 5.30654809 5.59614078 5.7082526  6.09884978 5.35189272\n",
            " 6.00662863 5.3347862  6.6517052  5.34334701 5.72733566 5.61179531\n",
            " 5.82205948 5.51087959 5.5956691  5.36133362 5.47312176 5.64861098\n",
            " 5.39709186 5.57844169 5.06503734 5.54585732 5.38174135 6.01194352\n",
            " 5.3491054  5.64426799 5.71362295 5.11506624 5.54540495 5.14020405\n",
            " 5.15284174 5.57671212 5.11434653 6.24430255 5.29254595 5.44680226\n",
            " 5.26798029 6.08047246 5.11587697 5.99349482 5.34128107 6.35159892\n",
            " 5.52654387 5.45697333 5.95743577 4.96786911 5.95351347 5.25303268\n",
            " 5.02886825 5.58514547 4.95353965 5.57289543 5.41356259 5.0471006\n",
            " 5.98683554 5.38754628 6.63770733 5.55969931 6.34509221 6.0579204\n",
            " 4.83817913 5.57874751 5.23034225 5.22723406 6.22627569 5.46899877\n",
            " 6.2365474  6.50563964 6.15707613 5.66622667 5.61866295 5.51936445\n",
            " 5.57750798 6.64767574 5.99031551 6.24736541 5.55980698 5.56019184\n",
            " 6.2266183  5.00160942 5.88679093 5.28992282 5.33350401 5.96783074\n",
            " 5.04914339 6.16725028 6.47809473 5.34491845 5.67974622 5.56164761\n",
            " 5.44467921 6.01460201 6.34507426 6.16214753 5.41786397 5.45901497\n",
            " 5.06390521 5.27915632 5.52556632 5.1441796  5.07099443 5.06606196\n",
            " 6.5008075  5.24451703 6.90610312 5.70922512 5.33721029 5.54396903\n",
            " 5.77039376 5.43531313 5.19915532 5.38313085 6.07527597 5.40531694\n",
            " 5.50627655 5.75508541 4.8344823  4.77692289 5.01949695 5.78172269\n",
            " 4.87788176 5.09884208 6.57572213 5.59906412 5.43133371 5.61655208\n",
            " 5.6009139  6.13617012 6.88719602 5.30982637 6.44537137 6.11730725\n",
            " 5.47655524 5.10558365 6.11830294 5.18665095 5.82958752 5.70177496\n",
            " 6.55849544 5.14599548 5.9326489  6.04016916 5.70643233 6.00917452\n",
            " 4.96003213 5.19437894 5.19166627 5.3997132  5.06883703 5.96799518\n",
            " 5.7164157  5.96404125 6.0323271  5.62677462 5.21292894 5.7718644\n",
            " 5.27533716 6.46799719 6.12785135 4.92629995 5.35561251 5.48940605\n",
            " 5.33318142 6.05388524 5.13472054 5.89641724 5.36798749 5.70376536\n",
            " 5.69985712 5.43581826 5.96604447 5.73368099 6.21110233 5.10844462\n",
            " 5.25332039 5.14016816 5.568623   6.3012099  5.04143705 5.1716405\n",
            " 5.73252685 4.98706027 5.38689404 6.36806224 4.9528204  5.95799574\n",
            " 5.06847533 5.1297793  5.55294978 5.09446979 5.2277355  5.51795975\n",
            " 5.17014486 5.76811406 4.73000179 6.11633498 6.31018135 5.22019554\n",
            " 5.49013257 5.38051313 5.562412   5.15834576 6.50378294 5.67765874\n",
            " 5.40458825 5.82139301 6.41854901 5.87948523 6.5569472  5.30986226\n",
            " 5.37952795 5.30047324 5.19044077 5.46710003 6.09490592 4.90288473\n",
            " 5.74194844 5.26602513 5.90354283 5.54094832 5.96939526 6.08407315\n",
            " 5.36601211 5.60861937 4.84553676 5.67587475 5.48681562 5.82920935\n",
            " 5.69311495 5.12578382 6.35729436 6.6733678  6.04856109 5.87917625\n",
            " 5.38324765 5.43463754 5.02169138 5.32935883 5.72091027 5.67207698\n",
            " 6.08045451 5.06392316 6.16740643 5.01480237 4.83652913 4.66219739\n",
            " 6.26031974 5.25175895 5.76380827 5.23972344 5.45941395 5.51370515\n",
            " 5.41581112 5.81066531 6.30388256 5.19882207 6.41383471 5.20035563\n",
            " 6.33712415 6.258117   6.10941302 5.29182948 6.45017576 4.79675351\n",
            " 6.29617852 6.14069442 5.56929368 5.98767261 5.27156699 5.89162388\n",
            " 6.16173349 6.61697499 5.39874681 5.51759984 5.75461242 5.29402099\n",
            " 6.15779505 5.41988204 5.11177522 5.8572854  5.02918628 6.86852957\n",
            " 5.95526026 5.62628151 5.17920436 5.09440417 5.28065763 6.1299079\n",
            " 5.51246021 5.12491184 5.30733736 5.56974208 6.3448783  5.41358054\n",
            " 5.75076333 5.37619598 5.01220506 5.37438332 4.73373518 6.44911426\n",
            " 5.6208053  5.77102099 5.73353581 5.67867868 5.39444971 5.93265325\n",
            " 5.41989998 5.21724061 6.6109349  6.14067648 5.24493236 6.75820795\n",
            " 5.82298292 5.62057675 6.00951159 6.10835463 5.27265482 5.6799767\n",
            " 5.64140851 5.6805822  5.83963611 6.55762791 6.3835312  5.47360329\n",
            " 5.83406858 6.91361187 6.86849368 6.21201627 6.03185559 5.70085614\n",
            " 4.92885384 5.91483761 6.630434   5.4943606  5.24100537 5.29566427\n",
            " 5.56404964 5.63511298 5.30454346 5.56369659 5.58023851 6.47801371\n",
            " 5.44175733 5.45710392 4.98817574 5.55023279 5.90711194 6.16113903\n",
            " 5.90610005 5.93020292 6.25060096 5.38735624 5.60536253 5.7949167\n",
            " 5.29111292 4.9737555  5.70325675 5.43574648 5.21518966 5.83273919\n",
            " 5.61390259 5.88824119 6.27282629 6.56812433 5.1148553  5.36833669\n",
            " 6.04482381 5.51842063 6.58681338 5.11382768 5.00675048 5.49520038\n",
            " 5.46939144 5.59284033 5.70342962 5.60571377 5.04943099 5.61801176\n",
            " 4.88868878 5.74052847 5.8996265  5.76043758 6.25283346 5.37188911\n",
            " 5.41301425 5.46835836 6.29693695 5.25173477 6.48578293 5.66933848\n",
            " 5.24256232 5.45514949 5.95863599 5.7336658  6.06591113 5.69747738\n",
            " 4.50290835 7.30823064 5.28553932 4.75204074 5.18904282 5.98578623\n",
            " 6.35672092 6.40183092 5.01825044 5.15336544 6.37273451 6.24169255\n",
            " 4.32451832 4.89592607 5.64591423 6.04680743 4.9725975  5.25181279\n",
            " 5.40068367 6.74297276 5.38075954 5.65934781 5.11687435 5.51279459\n",
            " 6.08718788 5.88670121 5.74191255 5.99008517 5.48994015 5.34625713\n",
            " 5.54591046 5.39623838 5.58952635 5.69595597 5.45210745 6.10096068\n",
            " 5.76550549 5.90066203 5.25753216 6.11847268 5.79894567 5.94307175\n",
            " 5.53344747 5.14914447 5.86196842 6.30307762 5.24067985 5.34719034\n",
            " 6.19559184 6.03725769 5.5215825  5.92289847 6.33107577 5.55026868\n",
            " 5.92445369 5.61651619 5.35410496 5.70570162 5.77093587 5.31825237\n",
            " 6.0359994  6.14943287 5.45562035 5.85400859 5.49003504 5.36767412\n",
            " 6.01188945 6.17515602 6.06132274 5.11401413 5.70645028 5.15593458\n",
            " 5.9701589  5.72483988 6.32773766 5.47184754 5.00484054 5.92103365\n",
            " 6.10797393 4.92878206 6.14026318 5.57024892 6.25927961 5.31210694\n",
            " 4.8658311  5.35315175 6.00085414 5.84753052 5.05791202 5.43529519\n",
            " 5.8367761  6.2392066  5.41348021 4.72904128 5.97143871 5.45866029\n",
            " 5.32009017 5.33680335 5.35126596 5.04916134 5.86463554 5.43538714\n",
            " 5.96262563 5.15994633 5.92040345 5.26477053 5.29191129 5.34970847\n",
            " 5.46208172 5.90064408 5.3969947  6.12699597 5.80618736 5.46026957\n",
            " 5.26245001 5.58726057 5.85060553 6.0175238  5.40393954 6.09576066\n",
            " 5.11489119 5.31502845 5.0833091  5.09180916 5.90350694 6.31935617\n",
            " 5.76139128 6.06051431 6.07050406 5.52173192 5.89969033 5.10360225\n",
            " 5.366999   5.83634472 5.01064614 5.51242432 5.87561129 6.08409213\n",
            " 5.34131696 5.18691913 5.94978953 5.74056436 6.03234505 5.04202856\n",
            " 5.00126389 5.72726388 5.17147417 5.5061642  5.71292372 5.47844563\n",
            " 5.61354295 4.86813088 5.14603886 5.56839983 5.47333463 6.26832129\n",
            " 6.38001606 6.35044419 6.0437438  5.6085585  4.88230969 5.44668953\n",
            " 5.99245844 5.3330558  5.21194915 5.8624388  5.46054416 5.67061116\n",
            " 6.21211651 5.61076005 5.13585149 6.12697802 5.3385604  5.99659443\n",
            " 6.02429088 6.2345217  6.62118614 5.56248378 5.10356636 6.49030623\n",
            " 5.98851938 5.57372774 5.79964077 5.28019046 5.77790969 6.60846546\n",
            " 4.6846757  4.95775691 5.55332096 5.46468066 5.4995524  6.52285175\n",
            " 5.62400903 5.05503573 6.22006303 6.67361685 5.68853683 4.96295984\n",
            " 5.79593684 5.32511247 6.34748658 6.42398848 5.17661115 5.74193049\n",
            " 5.27879849 5.22099376 5.75220377 5.19738189 4.89723918 5.03994842\n",
            " 5.45435898 5.62646202 5.27838257 5.75459448 5.45803636 5.60000834\n",
            " 4.73083581 5.96045572 5.74817041 5.13693109 5.15893742 5.21812389\n",
            " 4.91813967 5.0181966  6.69326793 6.5054914  5.30658398 5.11994547\n",
            " 5.35836993 6.10123123 5.35581337 5.11452666 5.36000454 5.16744771\n",
            " 5.5707659  5.5802744  5.25619406 5.11916053 5.36840847 6.35456633\n",
            " 6.01721844 5.49381634 5.23721328 5.60762159 5.07306477 4.95630176\n",
            " 6.0439215  6.28290229 6.09047744 6.02491137 5.71560003 5.46096644\n",
            " 5.8416726  5.52649004 5.09414164 5.55203945 6.28678728 5.2003099\n",
            " 5.19410078 5.46853522 5.53890807 5.09099409 4.717196   5.62382929\n",
            " 6.45198915 6.00015316 6.46756609 5.21442617 5.86657989 5.34221891\n",
            " 6.21213445 5.12922471 5.47490153 6.11838295 5.95102147 5.62713407\n",
            " 5.45695538 5.0375453  5.28414488 6.35130239 5.40526311 5.56401375\n",
            " 5.77750834 6.09714585 6.15257578 6.27476325 6.618223   5.96517452\n",
            " 5.26728373 5.04260569 5.7734962  5.69977265 5.93001206 5.35219984\n",
            " 5.79975792 5.68851888 5.80218159 5.74852469 5.62629945]\n"
          ]
        }
      ]
    },
    {
      "cell_type": "code",
      "source": [
        "test_pred = regressor.predict(x_test)\n",
        "print(test_pred)"
      ],
      "metadata": {
        "id": "tDIpSb5cicSX",
        "colab": {
          "base_uri": "https://localhost:8080/"
        },
        "outputId": "9dd70f51-aab7-43ea-c4a8-704dd74e79ac"
      },
      "execution_count": null,
      "outputs": [
        {
          "output_type": "stream",
          "name": "stdout",
          "text": [
            "[5.75238878 5.95141856 5.94305381 5.64465627 6.54407497 5.82975049\n",
            " 5.27188958 6.14920996 5.23260681 6.1250852  6.5689993  5.94592882\n",
            " 5.10827773 5.62586227 5.31818059 5.83627294 5.15616444 4.87882124\n",
            " 5.85558409 6.48433148 5.40887807 4.90039916 5.05704621 6.16744232\n",
            " 4.94652183 5.38147647 5.93006589 5.9955001  5.02321449 5.28312648\n",
            " 5.70083819 6.37406872 5.06993144 5.64776359 5.68525628 5.28558424\n",
            " 5.23432671 6.06438377 5.28778455 6.50073572 5.4683769  5.22046939\n",
            " 6.4648261  5.41489113 5.92398671 5.15263947 5.69495857 6.55388091\n",
            " 5.60449472 6.72191797 6.6437125  5.57394839 5.63003496 6.44922193\n",
            " 5.35800757 6.47940458 5.68394721 5.14347543 6.50146766 5.34547063\n",
            " 6.17065861 6.8804855  5.7303757  5.48291395 5.83868352 5.810629\n",
            " 5.22961883 5.58442053 5.09732477 5.28309267 5.31497462 5.08663731\n",
            " 5.29992939 6.00018905 6.62672124 5.74763034 5.62626356 5.19214953\n",
            " 5.37496831 6.03109876 5.53748331 5.22887345 5.61128191 5.2042564\n",
            " 5.77645991 4.79226685 5.50193478 5.94737353 6.91410121 4.99124215\n",
            " 5.17644942 5.57461814 6.54650048 6.54697737 5.79984941 6.22978728\n",
            " 5.197346   5.72298622 6.39893128 5.76041964 6.22611503 6.50817392\n",
            " 5.19875699 5.80721439 5.49944473 5.15878538 5.75063153 5.08794819\n",
            " 5.65927603 6.25820673 4.89114068 5.42450484 5.66776159 5.63158549\n",
            " 4.3330854  5.39199351 4.95432512 5.24001179 5.71256155 5.839537\n",
            " 6.10843756 5.06682031 5.05701032 5.2498399  5.38165162 5.41274094\n",
            " 5.38238474 5.66353421 5.0630936  5.14932678 5.77053751 6.14242085\n",
            " 5.35627944 5.48944194 6.58419143 5.63260412 5.87376885 5.73192539\n",
            " 5.23133383 5.89056486 5.20816553 5.49477428 5.92384371 4.9466868\n",
            " 6.71118968 5.57579254 6.00252748 5.68537476 5.50241869 5.64199199\n",
            " 5.06081619 6.24814627 6.02464655 6.23368139 6.53207085 5.41299631\n",
            " 5.36918598 5.23562884 6.14227576 5.11783341 5.99638189 5.4718296\n",
            " 5.36214451 6.18672159 4.65411999 5.55241646 6.14241858 5.64151618\n",
            " 5.56161171 6.46781298 6.30928377 5.40376605 5.43620696 5.7040967\n",
            " 5.65997332 5.3770729  6.48590854 5.15401386 5.27494722 5.48520252\n",
            " 5.68898636 5.81447754 5.09097953 5.51555505 6.29473726 5.49029256\n",
            " 6.57284209 6.36579153 5.74922883 6.069893   5.25472821 6.6395753\n",
            " 5.22488314 6.0806318  6.45606576 6.03892673 6.52737188 5.86513424\n",
            " 5.26377055 5.73344506 4.9533792  5.61079594 5.39673323 5.40076663\n",
            " 5.09821931 6.29050335 5.45703214 5.41744353 6.23940944 6.58415554\n",
            " 5.36612922 6.33383436 5.63325232 5.85495486 5.89966239 6.23577414\n",
            " 5.23360013 5.68850094 4.75084646 5.61894104 5.35404971 5.38864305\n",
            " 6.03229121 5.41260094 6.12609144 5.47367573 5.35316969 5.8540051\n",
            " 5.91919043 6.49964574 5.17559402 4.99384792 5.03026418 5.04553104\n",
            " 5.67142064 6.15775916 5.70874235 6.15293188 6.48233971 5.14597754\n",
            " 5.54024827 6.12289731 5.26731962 5.31821648 5.64480833 5.74180381\n",
            " 5.76035797 6.25915586 5.39054623 4.87100197 6.01293757 6.15005319\n",
            " 6.16869219 6.50019788 5.65790406 5.74196638 6.21960776 6.91346831\n",
            " 6.23948122 5.71247182 6.29036094 5.02456214 5.41198022 4.97869378\n",
            " 5.06858464 5.05055587 5.23126205 5.29769988 5.17330988 6.15783094\n",
            " 5.54395108 5.92052229 6.16208153 6.40966484 6.5536804  5.77736644\n",
            " 5.83279303 4.97641242 6.0370187  5.28557348 6.21878544 5.64484422\n",
            " 5.46924788 5.92310123 5.20590611 5.69318346]\n"
          ]
        }
      ]
    },
    {
      "cell_type": "code",
      "source": [
        "train_rmse = metrics.mean_squared_error(train_pred,y_train)**0.5\n",
        "print(train_rmse)"
      ],
      "metadata": {
        "id": "DacmYlDCilFa",
        "colab": {
          "base_uri": "https://localhost:8080/"
        },
        "outputId": "538527c5-afcb-4655-d594-d6492982252e"
      },
      "execution_count": null,
      "outputs": [
        {
          "output_type": "stream",
          "name": "stdout",
          "text": [
            "0.6343945564870849\n"
          ]
        }
      ]
    },
    {
      "cell_type": "code",
      "source": [
        "test_rmse = metrics.mean_squared_error(test_pred, y_test) ** 0.5\n",
        "print(train_rmse)"
      ],
      "metadata": {
        "id": "0vYmtnSJi_jX",
        "colab": {
          "base_uri": "https://localhost:8080/"
        },
        "outputId": "61f07648-0321-42f7-8f34-d05982236197"
      },
      "execution_count": null,
      "outputs": [
        {
          "output_type": "stream",
          "name": "stdout",
          "text": [
            "0.6343945564870849\n"
          ]
        }
      ]
    },
    {
      "cell_type": "code",
      "source": [
        "# The root-mean-square error (RMSE) is a frequently used measure of the differences between values (sample and population values) predicted by a model and the values actually observed.\n",
        "# The RMSE for your training and your test sets should be very similar if you have built a good model.\n",
        "# If the RMSE for the test set is much higher than that of the training set, it is likely that you've badly over fit the data"
      ],
      "metadata": {
        "id": "lMsgtbt3jW-1"
      },
      "execution_count": null,
      "outputs": []
    },
    {
      "cell_type": "code",
      "source": [
        "# rounding off the predicted values for test set\n",
        "predicted_data = np.round_(test_pred)\n",
        "predicted_data"
      ],
      "metadata": {
        "id": "E5Lexnz9j4hx",
        "colab": {
          "base_uri": "https://localhost:8080/"
        },
        "outputId": "5cc5f23f-5723-4fd3-f997-ee2741395673"
      },
      "execution_count": null,
      "outputs": [
        {
          "output_type": "execute_result",
          "data": {
            "text/plain": [
              "array([6., 6., 6., 6., 7., 6., 5., 6., 5., 6., 7., 6., 5., 6., 5., 6., 5.,\n",
              "       5., 6., 6., 5., 5., 5., 6., 5., 5., 6., 6., 5., 5., 6., 6., 5., 6.,\n",
              "       6., 5., 5., 6., 5., 7., 5., 5., 6., 5., 6., 5., 6., 7., 6., 7., 7.,\n",
              "       6., 6., 6., 5., 6., 6., 5., 7., 5., 6., 7., 6., 5., 6., 6., 5., 6.,\n",
              "       5., 5., 5., 5., 5., 6., 7., 6., 6., 5., 5., 6., 6., 5., 6., 5., 6.,\n",
              "       5., 6., 6., 7., 5., 5., 6., 7., 7., 6., 6., 5., 6., 6., 6., 6., 7.,\n",
              "       5., 6., 5., 5., 6., 5., 6., 6., 5., 5., 6., 6., 4., 5., 5., 5., 6.,\n",
              "       6., 6., 5., 5., 5., 5., 5., 5., 6., 5., 5., 6., 6., 5., 5., 7., 6.,\n",
              "       6., 6., 5., 6., 5., 5., 6., 5., 7., 6., 6., 6., 6., 6., 5., 6., 6.,\n",
              "       6., 7., 5., 5., 5., 6., 5., 6., 5., 5., 6., 5., 6., 6., 6., 6., 6.,\n",
              "       6., 5., 5., 6., 6., 5., 6., 5., 5., 5., 6., 6., 5., 6., 6., 5., 7.,\n",
              "       6., 6., 6., 5., 7., 5., 6., 6., 6., 7., 6., 5., 6., 5., 6., 5., 5.,\n",
              "       5., 6., 5., 5., 6., 7., 5., 6., 6., 6., 6., 6., 5., 6., 5., 6., 5.,\n",
              "       5., 6., 5., 6., 5., 5., 6., 6., 6., 5., 5., 5., 5., 6., 6., 6., 6.,\n",
              "       6., 5., 6., 6., 5., 5., 6., 6., 6., 6., 5., 5., 6., 6., 6., 7., 6.,\n",
              "       6., 6., 7., 6., 6., 6., 5., 5., 5., 5., 5., 5., 5., 5., 6., 6., 6.,\n",
              "       6., 6., 7., 6., 6., 5., 6., 5., 6., 6., 5., 6., 5., 6.])"
            ]
          },
          "metadata": {},
          "execution_count": 30
        }
      ]
    },
    {
      "cell_type": "code",
      "source": [
        "print('Mean Absolute Error:', metrics.mean_absolute_error(y_test, test_pred))\n",
        "print('Mean Squared Error:', metrics.mean_squared_error(y_test, test_pred))\n",
        "print('Root Mean Squared Error:', np.sqrt(metrics.mean_squared_error(y_test, test_pred)))"
      ],
      "metadata": {
        "id": "RruaQJc5kKup",
        "colab": {
          "base_uri": "https://localhost:8080/"
        },
        "outputId": "51e90892-9ce1-4fdd-cbd5-916df81c5bca"
      },
      "execution_count": null,
      "outputs": [
        {
          "output_type": "stream",
          "name": "stdout",
          "text": [
            "Mean Absolute Error: 0.49876847404767694\n",
            "Mean Squared Error: 0.4209796409447223\n",
            "Root Mean Squared Error: 0.6488294390244036\n"
          ]
        }
      ]
    },
    {
      "cell_type": "code",
      "source": [
        "coeffecients = pd.DataFrame(regressor.coef_,features)\n",
        "coeffecients.columns = ['Coeffecient']\n",
        "print(coeffecients)\n",
        "#These numbers mean that holding all other features fixed, a 1 unit increase in suplhates will lead to an increase of 0.8 in Quality of wine, and similarly for the other features\n",
        "#These numbers mean that holding all other features fixed, a 1 unit increase in volatile acidity will lead to a decrease of 0.9"
      ],
      "metadata": {
        "id": "v80XMk99k8AB",
        "colab": {
          "base_uri": "https://localhost:8080/"
        },
        "outputId": "a836c414-ac9f-4a84-db98-705b30438356"
      },
      "execution_count": null,
      "outputs": [
        {
          "output_type": "stream",
          "name": "stdout",
          "text": [
            "                      Coeffecient\n",
            "fixed acidity            0.207932\n",
            "volatile acidity        -1.615312\n",
            "citric acid             -0.109293\n",
            "chlorides               -0.978027\n",
            "free sulfur dioxide      0.216173\n",
            "total sulfur dioxide    -0.852493\n",
            "density                 -0.253022\n",
            "pH                      -0.533601\n",
            "sulphates                1.572952\n",
            "alcohol                  1.666357\n",
            "Id                      -0.000018\n"
          ]
        }
      ]
    },
    {
      "cell_type": "code",
      "source": [
        "#Accuracy\n",
        "regressor_accuracy = accuracy_score(y_test, predicted_data.round())*100\n",
        "print(\"Linear Regression Accuracy: {:.2f}%\".format(regressor_accuracy))"
      ],
      "metadata": {
        "colab": {
          "base_uri": "https://localhost:8080/"
        },
        "id": "Hq0AOJ6RW1Q2",
        "outputId": "36819dee-3782-4e69-a9a0-2415c32481f4"
      },
      "execution_count": null,
      "outputs": [
        {
          "output_type": "stream",
          "name": "stdout",
          "text": [
            "Linear Regression Accuracy: 63.64%\n"
          ]
        }
      ]
    },
    {
      "cell_type": "markdown",
      "source": [
        "Ridge Regression Model"
      ],
      "metadata": {
        "id": "e-BU8fcx2abT"
      }
    },
    {
      "cell_type": "code",
      "source": [
        "from sklearn.linear_model import Ridge\n",
        "rid = Ridge()\n",
        "print(rid.fit(x_train, y_train))"
      ],
      "metadata": {
        "id": "_DPCD2GYk-uq",
        "colab": {
          "base_uri": "https://localhost:8080/"
        },
        "outputId": "ff4dcc24-0e94-412f-b1c1-4b336f889ce2"
      },
      "execution_count": null,
      "outputs": [
        {
          "output_type": "stream",
          "name": "stdout",
          "text": [
            "Ridge()\n"
          ]
        }
      ]
    },
    {
      "cell_type": "code",
      "source": [
        "print(rid.coef_)"
      ],
      "metadata": {
        "colab": {
          "base_uri": "https://localhost:8080/"
        },
        "id": "Ebn0iywQ0Bdz",
        "outputId": "0487f372-6aaa-4863-92c8-2ca766df1014"
      },
      "execution_count": null,
      "outputs": [
        {
          "output_type": "stream",
          "name": "stdout",
          "text": [
            "[ 3.06518262e-01 -1.50496867e+00 -2.79100639e-02 -7.67414169e-01\n",
            "  1.54135777e-01 -7.35045787e-01 -3.46805604e-01 -3.72084705e-01\n",
            "  1.37356085e+00  1.58727908e+00 -8.77699690e-06]\n"
          ]
        }
      ]
    },
    {
      "cell_type": "code",
      "source": [
        "train_pred = rid.predict(x_train)\n",
        "print(train_pred)"
      ],
      "metadata": {
        "colab": {
          "base_uri": "https://localhost:8080/"
        },
        "id": "WGuC2k-O0EnF",
        "outputId": "34fa66d3-c9b6-4585-f462-8c87d715431e"
      },
      "execution_count": null,
      "outputs": [
        {
          "output_type": "stream",
          "name": "stdout",
          "text": [
            "[6.35583495 6.3285279  4.90507452 5.9563373  4.78723175 5.35216795\n",
            " 5.16878684 5.77872628 5.94379807 6.38028242 4.96569483 4.9394259\n",
            " 5.37348009 6.13655523 6.73661209 5.37887971 5.62420742 5.6086138\n",
            " 5.79129431 5.07929869 6.13507966 5.20817304 5.82218608 5.40202804\n",
            " 5.57992132 5.79219661 5.74333173 5.32217192 6.36769628 6.20887027\n",
            " 5.15428117 6.40127769 5.85004509 5.21237157 5.16061001 6.2706988\n",
            " 5.88477274 6.48248895 5.40386972 5.9820812  6.21624022 6.08965189\n",
            " 5.36209271 5.66485051 5.5840715  6.00042691 5.40734647 5.80787339\n",
            " 5.13297177 5.42853121 5.49679214 5.44668449 6.15587691 5.76387321\n",
            " 5.24776956 5.11078504 5.79881865 5.37347131 5.39558417 5.20220961\n",
            " 6.18353552 6.16832777 5.38674986 5.99848837 6.01777387 5.22413808\n",
            " 5.06166106 5.60456372 6.26649262 6.32806434 6.16331115 5.23457399\n",
            " 5.33045134 5.86304925 5.24220803 5.17338875 5.32639997 5.74285022\n",
            " 5.22100963 5.06971863 5.66544732 5.69371084 5.30399887 5.08563921\n",
            " 5.86894126 5.0220492  5.37255309 5.13363027 5.3525095  5.78696707\n",
            " 6.50001672 6.59205213 5.05174842 5.50279682 6.2823061  5.55034969\n",
            " 5.07350151 5.20331478 5.87934719 6.15074531 5.08156389 6.24425931\n",
            " 5.19045147 5.84555621 5.25884153 5.30894591 5.50992563 5.62539544\n",
            " 5.07144726 5.14396357 6.42741204 6.2118997  5.46118602 5.03919895\n",
            " 5.50636244 5.30534019 5.85268781 5.99261561 5.68762219 6.05948659\n",
            " 6.16695783 5.81520172 6.37951212 6.1247415  6.29099935 5.3494108\n",
            " 5.36946181 5.18364005 5.64035566 6.17937735 5.29461082 5.55218978\n",
            " 5.78648074 5.20863055 5.08570431 5.35878389 5.178549   6.34043407\n",
            " 5.70989006 5.29685323 5.06537258 5.63230384 6.69165539 5.2598037\n",
            " 6.12780018 5.34942835 5.46278657 5.00574049 5.99909913 5.88735231\n",
            " 5.38823064 6.10476259 6.49287231 6.1998693  5.36972949 5.65182608\n",
            " 5.79145875 6.18264294 5.06129905 5.15516432 5.42494593 5.28445436\n",
            " 5.1981185  5.32227713 5.59149857 5.70543165 6.08564108 5.37632637\n",
            " 6.00959608 5.34136618 6.59956712 5.35102201 5.7139266  5.59663666\n",
            " 5.80491539 5.51263613 5.60159367 5.37888658 5.46728917 5.6408734\n",
            " 5.39721394 5.57619558 5.09204672 5.52365842 5.36356954 5.99005783\n",
            " 5.33990168 5.64274225 5.72047559 5.11945767 5.53751896 5.17855778\n",
            " 5.19535219 5.56065972 5.14126138 6.23004311 5.31784447 5.45342184\n",
            " 5.26960863 6.05416335 5.13532953 5.97327067 5.37323713 6.30819036\n",
            " 5.52863363 5.47111003 5.95424658 4.99401369 5.91506825 5.33323317\n",
            " 5.0678735  5.57246022 4.98836799 5.57805026 5.41263537 5.07377911\n",
            " 5.93974453 5.37753442 6.6103909  5.5511118  6.30199222 6.07456206\n",
            " 4.90404451 5.58688972 5.26862212 5.26441435 6.20734936 5.44641463\n",
            " 6.20080472 6.48587844 6.13754938 5.66909223 5.60856992 5.52249774\n",
            " 5.55991137 6.48253283 5.96535354 6.19037483 5.55116446 5.58212432\n",
            " 6.20122644 5.05646412 5.89827123 5.26319231 5.36732502 5.94159969\n",
            " 5.06771782 6.14554992 6.47879587 5.35891772 5.67646851 5.56884976\n",
            " 5.46838434 5.97268912 6.30198345 6.12214084 5.42276725 5.44607694\n",
            " 5.10176862 5.27875354 5.50130801 5.17980229 5.0798942  5.10179996\n",
            " 6.48870528 5.26672868 6.84760167 5.76555175 5.31932162 5.54104563\n",
            " 5.70988128 5.39373145 5.21422004 5.39309272 6.0460986  5.41896363\n",
            " 5.53493234 5.74120103 4.8765793  4.81858874 5.06399154 5.77558434\n",
            " 4.88966803 5.14747101 6.54077489 5.61439146 5.44673975 5.60356114\n",
            " 5.58965093 6.12812517 6.84153575 5.30467814 6.40683927 6.07986522\n",
            " 5.46212247 5.13155843 6.09483948 5.20358803 5.81377166 5.75465766\n",
            " 6.48303048 5.19162903 5.94284146 6.01696602 5.69464086 5.98442066\n",
            " 4.98618125 5.22687458 5.16853863 5.41275501 5.08981447 5.96418209\n",
            " 5.70132986 5.95046903 6.02270671 5.63519633 5.26262499 5.73627694\n",
            " 5.27427261 6.4336327  6.11647686 4.96361925 5.36213068 5.52438239\n",
            " 5.33920229 6.01816245 5.15915433 5.88454403 5.35607087 5.68864124\n",
            " 5.68445862 5.46646085 5.93891347 5.73657884 6.18469927 5.13652286\n",
            " 5.28219386 5.17854023 5.59576595 6.27149934 5.06192593 5.20839045\n",
            " 5.72422708 5.01550572 5.40906953 6.38254806 5.00148997 5.94005068\n",
            " 5.07855897 5.15002229 5.56423694 5.13648605 5.23432018 5.52730016\n",
            " 5.15693413 5.76780157 4.7891576  6.1009897  6.28360018 5.21395016\n",
            " 5.48290421 5.4028053  5.53151693 5.1813682  6.49476197 5.66720566\n",
            " 5.41791973 5.82523488 6.37704733 5.85917227 6.52611504 5.3046957\n",
            " 5.37422349 5.33831429 5.20056749 5.49165481 6.0913273  4.93835186\n",
            " 5.74167989 5.2571574  5.91187361 5.49081375 5.96304796 6.06766439\n",
            " 5.36699859 5.60940425 4.89917652 5.6797592  5.47172154 5.81364269\n",
            " 5.70728955 5.16113617 6.31792174 6.65345971 6.04218939 5.88915355\n",
            " 5.42284025 5.43684118 5.05084852 5.32731975 5.71179173 5.66982293\n",
            " 6.05415458 5.1017774  6.15441113 5.03602063 4.89302152 4.73432462\n",
            " 6.22470944 5.25282028 5.71510175 5.28234307 5.46574186 5.51899286\n",
            " 5.40545739 5.75905655 6.28341697 5.20223594 6.40810937 5.20773388\n",
            " 6.33037528 6.24944446 6.09528378 5.34563116 6.40174927 4.84178446\n",
            " 6.27582911 6.13911013 5.56365571 5.97178534 5.2946196  5.85074025\n",
            " 6.15307523 6.5802101  5.40411394 5.51760429 5.76959474 5.30777774\n",
            " 6.13152206 5.39475554 5.12090323 5.84181692 5.06535502 6.80480238\n",
            " 5.933755   5.62542177 5.21278326 5.10009939 5.26653135 6.12765086\n",
            " 5.49646536 5.13394259 5.31748981 5.56943498 6.33497128 5.41264414\n",
            " 5.77145777 5.37208062 5.04479719 5.4241437  4.80617232 6.36947877\n",
            " 5.63257835 5.77275145 5.73089373 5.6534442  5.39904909 5.93647071\n",
            " 5.39476432 5.22565815 6.55241644 6.13910135 5.25160881 6.71892391\n",
            " 5.81058664 5.61357005 5.99347    6.07820232 5.29027967 5.68597685\n",
            " 5.63751777 5.67354146 5.79928517 6.46461273 6.36935896 5.45585212\n",
            " 5.82216852 6.82667624 6.80478483 6.20884034 6.02663068 5.69142954\n",
            " 4.92432546 5.87763584 6.59525982 5.49780324 5.25097271 5.28618488\n",
            " 5.55549913 5.63984585 5.32561041 5.57234602 5.58607828 6.44621839\n",
            " 5.44671311 5.45081604 5.04391    5.55602834 5.86696686 6.14424221\n",
            " 5.89689579 5.95631096 6.21617    5.40755344 5.59626852 5.76891974\n",
            " 5.28448947 5.02271271 5.69221606 5.46642574 5.21530281 5.81510136\n",
            " 5.60872393 5.89740029 6.24363173 6.54044668 5.14307774 5.37883582\n",
            " 6.03439192 5.53494758 6.54817797 5.17957416 5.04188733 5.46572477\n",
            " 5.44711237 5.5958475  5.66376735 5.58329741 5.07813354 5.59278157\n",
            " 4.93380884 5.733471   5.8522589  5.76346047 6.23250898 5.3661971\n",
            " 5.39254159 5.5245976  6.30106636 5.26381066 6.42378121 5.65534895\n",
            " 5.3095302  5.44760814 5.9444111  5.6911687  5.96707718 5.70499315\n",
            " 4.59228898 7.2738068  5.36172414 4.78765555 5.17276332 5.97428233\n",
            " 6.33638468 6.34941302 5.05708898 5.18828418 6.3252256  6.21636462\n",
            " 4.45423129 4.97109432 5.64639141 6.02879392 5.02024967 5.25284661\n",
            " 5.40799619 6.69442114 5.37484088 5.61899863 5.13579006 5.51449412\n",
            " 6.08522697 5.89822734 5.74166234 5.98647755 5.52740609 5.3426779\n",
            " 5.55552619 5.41500864 5.56511181 5.6679689  5.44574129 6.03679043\n",
            " 5.74699206 5.89193494 5.25429918 6.07235433 5.76089727 5.94695782\n",
            " 5.56957195 5.16237591 5.87729803 6.29571044 5.25249817 5.36355723\n",
            " 6.20177019 6.03189054 5.52651509 5.87464773 6.3033492  5.55604589\n",
            " 5.91073031 5.60354359 5.3653061  5.6948279  5.74286777 5.34759343\n",
            " 6.03356672 6.14089963 5.4344828  5.86857317 5.49722423 5.37713926\n",
            " 6.00964317 6.12396388 6.07986077 5.15301198 5.69464964 5.1819425\n",
            " 5.97146212 5.72139524 6.2657076  5.46727524 5.05376447 5.92479148\n",
            " 6.10923323 4.92429035 6.08781928 5.59209798 6.24553126 5.31338808\n",
            " 4.93095848 5.35249195 5.9782298  5.80125828 5.07845898 5.39372267\n",
            " 5.79022016 6.21048113 5.42719523 4.77761416 5.97739428 5.48132321\n",
            " 5.32914872 5.36622456 5.36214264 5.0677266  5.86183826 5.44186255\n",
            " 5.95701741 5.1948443  5.89958393 5.27173737 5.31140042 5.36705338\n",
            " 5.46203846 5.89192616 5.43418535 6.12356695 5.79817914 5.45306723\n",
            " 5.30139697 5.5857527  5.86008529 5.97161548 5.38834624 6.08446988\n",
            " 5.1430953  5.34114006 5.12833797 5.13146678 5.91185606 6.3049044\n",
            " 5.73316633 6.0229943  6.06314341 5.54190393 5.89113337 5.11621786\n",
            " 5.38602957 5.81401369 5.02860313 5.49644781 5.88485359 6.07443777\n",
            " 5.37325469 5.22412931 5.95822037 5.73348856 6.02271549 5.13298932\n",
            " 5.05048219 5.71389149 5.18816698 5.48329919 5.73187982 5.50635367\n",
            " 5.626793   4.92245237 5.19789151 5.54648373 5.43884062 6.21910428\n",
            " 6.36304171 6.33106241 6.02458739 5.59302445 4.94940205 5.44371418\n",
            " 5.95915032 5.33914085 5.21002803 5.84341059 5.43718591 5.66862018\n",
            " 6.221432   5.58885546 5.15727501 6.12355817 5.35449329 6.02637929\n",
            " 6.00826169 6.18350041 6.59204335 5.53155204 5.1162003  6.46141033\n",
            " 5.99259148 5.55279718 5.83772797 5.30654252 5.79154064 6.57208776\n",
            " 4.76264256 4.994309   5.5369043  5.5013234  5.49736323 6.46130333\n",
            " 5.61592131 5.09914983 6.20664404 6.61319864 5.67869047 5.09086406\n",
            " 5.78204744 5.31242376 6.31682503 6.40258821 5.21138717 5.74167111\n",
            " 5.26024487 5.30034849 5.76057827 5.20943456 4.91736262 5.05340625\n",
            " 5.45417639 5.61066232 5.29300467 5.76958596 5.43881495 5.63393317\n",
            " 4.7711145  5.95239413 5.74471328 5.14828739 5.16687866 5.22754008\n",
            " 4.98449865 5.05706265 6.64023706 6.46698927 5.32229468 5.15317504\n",
            " 5.38517207 6.04838036 5.3711895  5.15907538 5.3649063  5.17800311\n",
            " 5.54775963 5.58609583 5.37504814 5.14657815 5.37887093 6.32913546\n",
            " 6.02123131 5.47240062 5.22924215 5.60862373 5.11940343 5.00221719\n",
            " 6.04667645 6.23408308 6.06670494 5.99726968 5.71140122 5.46120358\n",
            " 5.8366751  5.5286073  5.10621477 5.55019469 6.20763371 5.20431919\n",
            " 5.21945819 5.46997368 5.51934454 5.14182336 4.75824425 5.60533595\n",
            " 6.44355032 5.93923555 6.45200682 5.26911215 5.89078973 5.37041665\n",
            " 6.22144078 5.15948047 5.45034723 6.07231044 5.94742861 5.64600694\n",
            " 5.47110125 5.08325172 5.32533359 6.33205831 5.41893729 5.55548158\n",
            " 5.77928798 6.06573047 6.12119642 6.26415334 6.54431238 5.94841631\n",
            " 5.28866577 5.06456065 5.74558085 5.67447853 5.94264061 5.34903479\n",
            " 5.77249599 5.67868169 5.76716764 5.76384688 5.62543055]\n"
          ]
        }
      ]
    },
    {
      "cell_type": "code",
      "source": [
        "test_pred = rid.predict(x_test)\n",
        "print(test_pred)"
      ],
      "metadata": {
        "colab": {
          "base_uri": "https://localhost:8080/"
        },
        "id": "6YKnT82c0HhL",
        "outputId": "4e7797e6-0fde-4a94-9203-7d84a8db5e5e"
      },
      "execution_count": null,
      "outputs": [
        {
          "output_type": "stream",
          "name": "stdout",
          "text": [
            "[5.75766463 5.95288262 5.94694904 5.62754939 6.49872177 5.83491193\n",
            " 5.27408452 6.15590324 5.27568182 6.11846227 6.56732575 5.92200903\n",
            " 5.15730171 5.61446799 5.34755832 5.81397858 5.16841419 4.92053735\n",
            " 5.84242194 6.44981796 5.40566039 4.94047336 5.0896618  6.15442868\n",
            " 4.99405076 5.40047124 5.94266694 5.963727   5.03711826 5.29328338\n",
            " 5.69142076 6.3442163  5.10184724 5.63588252 5.63542454 5.30418997\n",
            " 5.26116613 6.08889935 5.28164055 6.48867017 5.47319412 5.25585017\n",
            " 6.4442162  5.39681194 5.92184806 5.17779467 5.68881281 6.50185522\n",
            " 5.58621629 6.66165613 6.58449735 5.56470295 5.62924441 6.36953143\n",
            " 5.35415494 6.44024714 5.66853529 5.17248668 6.44259649 5.36036216\n",
            " 6.13067541 6.78456806 5.718965   5.51990875 5.82974511 5.7683851\n",
            " 5.25854884 5.58406272 5.14136257 5.28133691 5.34111373 5.08500245\n",
            " 5.30707762 5.9392531  6.50606144 5.75878848 5.62541299 5.1848597\n",
            " 5.38142892 6.02180588 5.53499041 5.25376837 5.61842094 5.21669021\n",
            " 5.75556057 4.87071238 5.49958635 5.88983809 6.85883595 4.99999745\n",
            " 5.20554819 5.54032802 6.47767729 6.52552474 5.81466008 6.19391524\n",
            " 5.20941701 5.72633635 6.3718242  5.76345169 6.21760206 6.48814063\n",
            " 5.21119114 5.76931866 5.49731057 5.20381279 5.75489132 5.10869795\n",
            " 5.61896352 6.24948835 4.93504955 5.42575697 5.64817931 5.64209896\n",
            " 4.42860543 5.40970307 4.98685525 5.26451838 5.68615763 5.82519303\n",
            " 6.07289894 5.07926358 5.08964424 5.2540724  5.36352566 5.42262138\n",
            " 5.37603931 5.68442003 5.07660738 5.13557045 5.77025469 6.10303396\n",
            " 5.36974705 5.52439994 6.54872441 5.67222343 5.84592956 5.73980133\n",
            " 5.23897469 5.872204   5.2240796  5.48644125 5.89702392 5.00488191\n",
            " 6.66025538 5.57716077 6.0224946  5.68020581 5.48386055 5.64314881\n",
            " 5.12848075 6.20812153 5.99880015 6.17940368 6.49085383 5.39253282\n",
            " 5.37425789 5.27083925 6.08113619 5.17130115 5.98432184 5.46726646\n",
            " 5.4038785  6.14197263 4.72931703 5.55138886 6.1385793  5.63757043\n",
            " 5.56883221 6.43926942 6.29512143 5.41767937 5.46324242 5.72578864\n",
            " 5.65234794 5.36939915 6.42384265 5.18797968 5.28805141 5.51079635\n",
            " 5.71414523 5.7927097  5.12294914 5.51498475 6.26393362 5.48495837\n",
            " 6.40024348 6.34144768 5.72789377 6.0648704  5.26329417 6.57393214\n",
            " 5.23160797 6.0700285  6.41989318 6.01901057 6.48642525 5.84576815\n",
            " 5.27481115 5.71402998 5.01323042 5.58887301 5.41941393 5.43179218\n",
            " 5.11009058 6.29324717 5.45078093 5.40318831 6.18191244 6.54870686\n",
            " 5.35877511 6.29291017 5.63129664 5.80297513 5.85227645 6.19796029\n",
            " 5.2380473  5.67867291 4.82132952 5.6662059  5.37092429 5.39510291\n",
            " 6.02268916 5.40477068 6.1256044  5.45297737 5.35250073 5.8327255\n",
            " 5.9278262  6.49352262 5.18522803 5.00998499 5.07680753 5.07449032\n",
            " 5.67212086 6.13150451 5.68488251 6.15468023 6.47556132 5.19162025\n",
            " 5.5633386  6.12356713 5.28868332 5.34757587 5.59965288 5.70683227\n",
            " 5.73451723 6.25527943 5.4084282  4.90913569 5.99708632 6.13658156\n",
            " 6.20887905 6.46619281 5.67121768 5.74168867 6.20970158 6.82660602\n",
            " 6.18194755 5.68611374 6.28855527 5.07882066 5.4139173  4.98887813\n",
            " 5.10158019 5.08558097 5.23893958 5.30867675 5.20571022 6.13153962\n",
            " 5.54103685 5.90910944 6.16696661 6.40271698 6.52930583 5.84035302\n",
            " 5.81512769 4.99437347 6.00392495 5.28429833 6.20110054 5.59967044\n",
            " 5.44704215 5.88400012 5.19982379 5.67166815]\n"
          ]
        }
      ]
    },
    {
      "cell_type": "code",
      "source": [
        "train_rmse = metrics.mean_squared_error(train_pred,y_train)**0.5\n",
        "print(train_rmse)"
      ],
      "metadata": {
        "colab": {
          "base_uri": "https://localhost:8080/"
        },
        "id": "F1ksCX7h0Klo",
        "outputId": "4634084a-a592-4474-dca8-a03d96f86326"
      },
      "execution_count": null,
      "outputs": [
        {
          "output_type": "stream",
          "name": "stdout",
          "text": [
            "0.635150625948765\n"
          ]
        }
      ]
    },
    {
      "cell_type": "code",
      "source": [
        "test_rmse = metrics.mean_squared_error(test_pred, y_test) ** 0.5\n",
        "print(train_rmse)"
      ],
      "metadata": {
        "colab": {
          "base_uri": "https://localhost:8080/"
        },
        "id": "vsdCFVzx0NpN",
        "outputId": "5f0b445e-d87d-48ed-bbf2-91e6afdc4e24"
      },
      "execution_count": null,
      "outputs": [
        {
          "output_type": "stream",
          "name": "stdout",
          "text": [
            "0.635150625948765\n"
          ]
        }
      ]
    },
    {
      "cell_type": "code",
      "source": [
        "predicted_data = np.round_(test_pred)\n",
        "predicted_data"
      ],
      "metadata": {
        "colab": {
          "base_uri": "https://localhost:8080/"
        },
        "id": "_JJDiZNR0QfB",
        "outputId": "c92715c0-0d57-49f5-bd0c-d534f2ed355a"
      },
      "execution_count": null,
      "outputs": [
        {
          "output_type": "execute_result",
          "data": {
            "text/plain": [
              "array([6., 6., 6., 6., 6., 6., 5., 6., 5., 6., 7., 6., 5., 6., 5., 6., 5.,\n",
              "       5., 6., 6., 5., 5., 5., 6., 5., 5., 6., 6., 5., 5., 6., 6., 5., 6.,\n",
              "       6., 5., 5., 6., 5., 6., 5., 5., 6., 5., 6., 5., 6., 7., 6., 7., 7.,\n",
              "       6., 6., 6., 5., 6., 6., 5., 6., 5., 6., 7., 6., 6., 6., 6., 5., 6.,\n",
              "       5., 5., 5., 5., 5., 6., 7., 6., 6., 5., 5., 6., 6., 5., 6., 5., 6.,\n",
              "       5., 5., 6., 7., 5., 5., 6., 6., 7., 6., 6., 5., 6., 6., 6., 6., 6.,\n",
              "       5., 6., 5., 5., 6., 5., 6., 6., 5., 5., 6., 6., 4., 5., 5., 5., 6.,\n",
              "       6., 6., 5., 5., 5., 5., 5., 5., 6., 5., 5., 6., 6., 5., 6., 7., 6.,\n",
              "       6., 6., 5., 6., 5., 5., 6., 5., 7., 6., 6., 6., 5., 6., 5., 6., 6.,\n",
              "       6., 6., 5., 5., 5., 6., 5., 6., 5., 5., 6., 5., 6., 6., 6., 6., 6.,\n",
              "       6., 5., 5., 6., 6., 5., 6., 5., 5., 6., 6., 6., 5., 6., 6., 5., 6.,\n",
              "       6., 6., 6., 5., 7., 5., 6., 6., 6., 6., 6., 5., 6., 5., 6., 5., 5.,\n",
              "       5., 6., 5., 5., 6., 7., 5., 6., 6., 6., 6., 6., 5., 6., 5., 6., 5.,\n",
              "       5., 6., 5., 6., 5., 5., 6., 6., 6., 5., 5., 5., 5., 6., 6., 6., 6.,\n",
              "       6., 5., 6., 6., 5., 5., 6., 6., 6., 6., 5., 5., 6., 6., 6., 6., 6.,\n",
              "       6., 6., 7., 6., 6., 6., 5., 5., 5., 5., 5., 5., 5., 5., 6., 6., 6.,\n",
              "       6., 6., 7., 6., 6., 5., 6., 5., 6., 6., 5., 6., 5., 6.])"
            ]
          },
          "metadata": {},
          "execution_count": 40
        }
      ]
    },
    {
      "cell_type": "code",
      "source": [
        "print('Mean Absolute Error:', metrics.mean_absolute_error(y_test, test_pred))\n",
        "print('Mean Squared Error:', metrics.mean_squared_error(y_test, test_pred))\n",
        "print('Root Mean Squared Error:', np.sqrt(metrics.mean_squared_error(y_test, test_pred)))"
      ],
      "metadata": {
        "colab": {
          "base_uri": "https://localhost:8080/"
        },
        "id": "q1W38QyZ0WT3",
        "outputId": "3d438f35-7b84-4571-ae78-a3726e51f0af"
      },
      "execution_count": null,
      "outputs": [
        {
          "output_type": "stream",
          "name": "stdout",
          "text": [
            "Mean Absolute Error: 0.5028867261266768\n",
            "Mean Squared Error: 0.4238003883334677\n",
            "Root Mean Squared Error: 0.6509995302098671\n"
          ]
        }
      ]
    },
    {
      "cell_type": "code",
      "source": [
        "coeffecients = pd.DataFrame(rid.coef_,features)\n",
        "coeffecients.columns = ['Coeffecient']\n",
        "print(coeffecients)"
      ],
      "metadata": {
        "colab": {
          "base_uri": "https://localhost:8080/"
        },
        "id": "cDDav49R0Y7Z",
        "outputId": "81372adb-ee3d-44cf-a411-351707fd565d"
      },
      "execution_count": null,
      "outputs": [
        {
          "output_type": "stream",
          "name": "stdout",
          "text": [
            "                      Coeffecient\n",
            "fixed acidity            0.306518\n",
            "volatile acidity        -1.504969\n",
            "citric acid             -0.027910\n",
            "chlorides               -0.767414\n",
            "free sulfur dioxide      0.154136\n",
            "total sulfur dioxide    -0.735046\n",
            "density                 -0.346806\n",
            "pH                      -0.372085\n",
            "sulphates                1.373561\n",
            "alcohol                  1.587279\n",
            "Id                      -0.000009\n"
          ]
        }
      ]
    },
    {
      "cell_type": "code",
      "source": [
        "#Accuracy\n",
        "rid_accuracy = accuracy_score(y_test, predicted_data.round())*100\n",
        "print(\"Ridge Regression Accuracy: {:.2f}%\".format(rid_accuracy))"
      ],
      "metadata": {
        "colab": {
          "base_uri": "https://localhost:8080/"
        },
        "id": "XlNmisAVX0JN",
        "outputId": "c81b604e-3bb2-4d39-9f16-f816c811ccdb"
      },
      "execution_count": null,
      "outputs": [
        {
          "output_type": "stream",
          "name": "stdout",
          "text": [
            "Ridge Regression Accuracy: 59.79%\n"
          ]
        }
      ]
    }
  ]
}